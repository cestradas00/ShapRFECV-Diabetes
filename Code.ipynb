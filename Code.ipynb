{
 "cells": [
  {
   "cell_type": "code",
   "metadata": {
    "ExecuteTime": {
     "end_time": "2024-05-19T01:16:27.033789Z",
     "start_time": "2024-05-19T01:16:27.032423Z"
    }
   },
   "source": [
    "import pandas as pd\n",
    "import numpy as np\n",
    "import matplotlib.pyplot as plt\n",
    "import seaborn as sns"
   ],
   "outputs": [],
   "execution_count": 1
  },
  {
   "cell_type": "markdown",
   "metadata": {},
   "source": [
    "# 1. EDA"
   ]
  },
  {
   "cell_type": "markdown",
   "metadata": {},
   "source": "## 1.1. Data Information"
  },
  {
   "metadata": {
    "ExecuteTime": {
     "end_time": "2024-05-19T01:16:28.554406Z",
     "start_time": "2024-05-19T01:16:28.269856Z"
    }
   },
   "cell_type": "code",
   "source": [
    "df=pd.read_csv('data/diabetic_data.csv')\n",
    "df"
   ],
   "outputs": [
    {
     "data": {
      "text/plain": [
       "        encounter_id  patient_nbr             race  gender      age weight  \\\n",
       "0            2278392      8222157        Caucasian  Female   [0-10)      ?   \n",
       "1             149190     55629189        Caucasian  Female  [10-20)      ?   \n",
       "2              64410     86047875  AfricanAmerican  Female  [20-30)      ?   \n",
       "3             500364     82442376        Caucasian    Male  [30-40)      ?   \n",
       "4              16680     42519267        Caucasian    Male  [40-50)      ?   \n",
       "...              ...          ...              ...     ...      ...    ...   \n",
       "101761     443847548    100162476  AfricanAmerican    Male  [70-80)      ?   \n",
       "101762     443847782     74694222  AfricanAmerican  Female  [80-90)      ?   \n",
       "101763     443854148     41088789        Caucasian    Male  [70-80)      ?   \n",
       "101764     443857166     31693671        Caucasian  Female  [80-90)      ?   \n",
       "101765     443867222    175429310        Caucasian    Male  [70-80)      ?   \n",
       "\n",
       "        admission_type_id  discharge_disposition_id  admission_source_id  \\\n",
       "0                       6                        25                    1   \n",
       "1                       1                         1                    7   \n",
       "2                       1                         1                    7   \n",
       "3                       1                         1                    7   \n",
       "4                       1                         1                    7   \n",
       "...                   ...                       ...                  ...   \n",
       "101761                  1                         3                    7   \n",
       "101762                  1                         4                    5   \n",
       "101763                  1                         1                    7   \n",
       "101764                  2                         3                    7   \n",
       "101765                  1                         1                    7   \n",
       "\n",
       "        time_in_hospital  ... citoglipton insulin  glyburide-metformin  \\\n",
       "0                      1  ...          No      No                   No   \n",
       "1                      3  ...          No      Up                   No   \n",
       "2                      2  ...          No      No                   No   \n",
       "3                      2  ...          No      Up                   No   \n",
       "4                      1  ...          No  Steady                   No   \n",
       "...                  ...  ...         ...     ...                  ...   \n",
       "101761                 3  ...          No    Down                   No   \n",
       "101762                 5  ...          No  Steady                   No   \n",
       "101763                 1  ...          No    Down                   No   \n",
       "101764                10  ...          No      Up                   No   \n",
       "101765                 6  ...          No      No                   No   \n",
       "\n",
       "        glipizide-metformin  glimepiride-pioglitazone  \\\n",
       "0                        No                        No   \n",
       "1                        No                        No   \n",
       "2                        No                        No   \n",
       "3                        No                        No   \n",
       "4                        No                        No   \n",
       "...                     ...                       ...   \n",
       "101761                   No                        No   \n",
       "101762                   No                        No   \n",
       "101763                   No                        No   \n",
       "101764                   No                        No   \n",
       "101765                   No                        No   \n",
       "\n",
       "        metformin-rosiglitazone  metformin-pioglitazone  change diabetesMed  \\\n",
       "0                            No                      No      No          No   \n",
       "1                            No                      No      Ch         Yes   \n",
       "2                            No                      No      No         Yes   \n",
       "3                            No                      No      Ch         Yes   \n",
       "4                            No                      No      Ch         Yes   \n",
       "...                         ...                     ...     ...         ...   \n",
       "101761                       No                      No      Ch         Yes   \n",
       "101762                       No                      No      No         Yes   \n",
       "101763                       No                      No      Ch         Yes   \n",
       "101764                       No                      No      Ch         Yes   \n",
       "101765                       No                      No      No          No   \n",
       "\n",
       "       readmitted  \n",
       "0              NO  \n",
       "1             >30  \n",
       "2              NO  \n",
       "3              NO  \n",
       "4              NO  \n",
       "...           ...  \n",
       "101761        >30  \n",
       "101762         NO  \n",
       "101763         NO  \n",
       "101764         NO  \n",
       "101765         NO  \n",
       "\n",
       "[101766 rows x 50 columns]"
      ],
      "text/html": [
       "<div>\n",
       "<style scoped>\n",
       "    .dataframe tbody tr th:only-of-type {\n",
       "        vertical-align: middle;\n",
       "    }\n",
       "\n",
       "    .dataframe tbody tr th {\n",
       "        vertical-align: top;\n",
       "    }\n",
       "\n",
       "    .dataframe thead th {\n",
       "        text-align: right;\n",
       "    }\n",
       "</style>\n",
       "<table border=\"1\" class=\"dataframe\">\n",
       "  <thead>\n",
       "    <tr style=\"text-align: right;\">\n",
       "      <th></th>\n",
       "      <th>encounter_id</th>\n",
       "      <th>patient_nbr</th>\n",
       "      <th>race</th>\n",
       "      <th>gender</th>\n",
       "      <th>age</th>\n",
       "      <th>weight</th>\n",
       "      <th>admission_type_id</th>\n",
       "      <th>discharge_disposition_id</th>\n",
       "      <th>admission_source_id</th>\n",
       "      <th>time_in_hospital</th>\n",
       "      <th>...</th>\n",
       "      <th>citoglipton</th>\n",
       "      <th>insulin</th>\n",
       "      <th>glyburide-metformin</th>\n",
       "      <th>glipizide-metformin</th>\n",
       "      <th>glimepiride-pioglitazone</th>\n",
       "      <th>metformin-rosiglitazone</th>\n",
       "      <th>metformin-pioglitazone</th>\n",
       "      <th>change</th>\n",
       "      <th>diabetesMed</th>\n",
       "      <th>readmitted</th>\n",
       "    </tr>\n",
       "  </thead>\n",
       "  <tbody>\n",
       "    <tr>\n",
       "      <th>0</th>\n",
       "      <td>2278392</td>\n",
       "      <td>8222157</td>\n",
       "      <td>Caucasian</td>\n",
       "      <td>Female</td>\n",
       "      <td>[0-10)</td>\n",
       "      <td>?</td>\n",
       "      <td>6</td>\n",
       "      <td>25</td>\n",
       "      <td>1</td>\n",
       "      <td>1</td>\n",
       "      <td>...</td>\n",
       "      <td>No</td>\n",
       "      <td>No</td>\n",
       "      <td>No</td>\n",
       "      <td>No</td>\n",
       "      <td>No</td>\n",
       "      <td>No</td>\n",
       "      <td>No</td>\n",
       "      <td>No</td>\n",
       "      <td>No</td>\n",
       "      <td>NO</td>\n",
       "    </tr>\n",
       "    <tr>\n",
       "      <th>1</th>\n",
       "      <td>149190</td>\n",
       "      <td>55629189</td>\n",
       "      <td>Caucasian</td>\n",
       "      <td>Female</td>\n",
       "      <td>[10-20)</td>\n",
       "      <td>?</td>\n",
       "      <td>1</td>\n",
       "      <td>1</td>\n",
       "      <td>7</td>\n",
       "      <td>3</td>\n",
       "      <td>...</td>\n",
       "      <td>No</td>\n",
       "      <td>Up</td>\n",
       "      <td>No</td>\n",
       "      <td>No</td>\n",
       "      <td>No</td>\n",
       "      <td>No</td>\n",
       "      <td>No</td>\n",
       "      <td>Ch</td>\n",
       "      <td>Yes</td>\n",
       "      <td>&gt;30</td>\n",
       "    </tr>\n",
       "    <tr>\n",
       "      <th>2</th>\n",
       "      <td>64410</td>\n",
       "      <td>86047875</td>\n",
       "      <td>AfricanAmerican</td>\n",
       "      <td>Female</td>\n",
       "      <td>[20-30)</td>\n",
       "      <td>?</td>\n",
       "      <td>1</td>\n",
       "      <td>1</td>\n",
       "      <td>7</td>\n",
       "      <td>2</td>\n",
       "      <td>...</td>\n",
       "      <td>No</td>\n",
       "      <td>No</td>\n",
       "      <td>No</td>\n",
       "      <td>No</td>\n",
       "      <td>No</td>\n",
       "      <td>No</td>\n",
       "      <td>No</td>\n",
       "      <td>No</td>\n",
       "      <td>Yes</td>\n",
       "      <td>NO</td>\n",
       "    </tr>\n",
       "    <tr>\n",
       "      <th>3</th>\n",
       "      <td>500364</td>\n",
       "      <td>82442376</td>\n",
       "      <td>Caucasian</td>\n",
       "      <td>Male</td>\n",
       "      <td>[30-40)</td>\n",
       "      <td>?</td>\n",
       "      <td>1</td>\n",
       "      <td>1</td>\n",
       "      <td>7</td>\n",
       "      <td>2</td>\n",
       "      <td>...</td>\n",
       "      <td>No</td>\n",
       "      <td>Up</td>\n",
       "      <td>No</td>\n",
       "      <td>No</td>\n",
       "      <td>No</td>\n",
       "      <td>No</td>\n",
       "      <td>No</td>\n",
       "      <td>Ch</td>\n",
       "      <td>Yes</td>\n",
       "      <td>NO</td>\n",
       "    </tr>\n",
       "    <tr>\n",
       "      <th>4</th>\n",
       "      <td>16680</td>\n",
       "      <td>42519267</td>\n",
       "      <td>Caucasian</td>\n",
       "      <td>Male</td>\n",
       "      <td>[40-50)</td>\n",
       "      <td>?</td>\n",
       "      <td>1</td>\n",
       "      <td>1</td>\n",
       "      <td>7</td>\n",
       "      <td>1</td>\n",
       "      <td>...</td>\n",
       "      <td>No</td>\n",
       "      <td>Steady</td>\n",
       "      <td>No</td>\n",
       "      <td>No</td>\n",
       "      <td>No</td>\n",
       "      <td>No</td>\n",
       "      <td>No</td>\n",
       "      <td>Ch</td>\n",
       "      <td>Yes</td>\n",
       "      <td>NO</td>\n",
       "    </tr>\n",
       "    <tr>\n",
       "      <th>...</th>\n",
       "      <td>...</td>\n",
       "      <td>...</td>\n",
       "      <td>...</td>\n",
       "      <td>...</td>\n",
       "      <td>...</td>\n",
       "      <td>...</td>\n",
       "      <td>...</td>\n",
       "      <td>...</td>\n",
       "      <td>...</td>\n",
       "      <td>...</td>\n",
       "      <td>...</td>\n",
       "      <td>...</td>\n",
       "      <td>...</td>\n",
       "      <td>...</td>\n",
       "      <td>...</td>\n",
       "      <td>...</td>\n",
       "      <td>...</td>\n",
       "      <td>...</td>\n",
       "      <td>...</td>\n",
       "      <td>...</td>\n",
       "      <td>...</td>\n",
       "    </tr>\n",
       "    <tr>\n",
       "      <th>101761</th>\n",
       "      <td>443847548</td>\n",
       "      <td>100162476</td>\n",
       "      <td>AfricanAmerican</td>\n",
       "      <td>Male</td>\n",
       "      <td>[70-80)</td>\n",
       "      <td>?</td>\n",
       "      <td>1</td>\n",
       "      <td>3</td>\n",
       "      <td>7</td>\n",
       "      <td>3</td>\n",
       "      <td>...</td>\n",
       "      <td>No</td>\n",
       "      <td>Down</td>\n",
       "      <td>No</td>\n",
       "      <td>No</td>\n",
       "      <td>No</td>\n",
       "      <td>No</td>\n",
       "      <td>No</td>\n",
       "      <td>Ch</td>\n",
       "      <td>Yes</td>\n",
       "      <td>&gt;30</td>\n",
       "    </tr>\n",
       "    <tr>\n",
       "      <th>101762</th>\n",
       "      <td>443847782</td>\n",
       "      <td>74694222</td>\n",
       "      <td>AfricanAmerican</td>\n",
       "      <td>Female</td>\n",
       "      <td>[80-90)</td>\n",
       "      <td>?</td>\n",
       "      <td>1</td>\n",
       "      <td>4</td>\n",
       "      <td>5</td>\n",
       "      <td>5</td>\n",
       "      <td>...</td>\n",
       "      <td>No</td>\n",
       "      <td>Steady</td>\n",
       "      <td>No</td>\n",
       "      <td>No</td>\n",
       "      <td>No</td>\n",
       "      <td>No</td>\n",
       "      <td>No</td>\n",
       "      <td>No</td>\n",
       "      <td>Yes</td>\n",
       "      <td>NO</td>\n",
       "    </tr>\n",
       "    <tr>\n",
       "      <th>101763</th>\n",
       "      <td>443854148</td>\n",
       "      <td>41088789</td>\n",
       "      <td>Caucasian</td>\n",
       "      <td>Male</td>\n",
       "      <td>[70-80)</td>\n",
       "      <td>?</td>\n",
       "      <td>1</td>\n",
       "      <td>1</td>\n",
       "      <td>7</td>\n",
       "      <td>1</td>\n",
       "      <td>...</td>\n",
       "      <td>No</td>\n",
       "      <td>Down</td>\n",
       "      <td>No</td>\n",
       "      <td>No</td>\n",
       "      <td>No</td>\n",
       "      <td>No</td>\n",
       "      <td>No</td>\n",
       "      <td>Ch</td>\n",
       "      <td>Yes</td>\n",
       "      <td>NO</td>\n",
       "    </tr>\n",
       "    <tr>\n",
       "      <th>101764</th>\n",
       "      <td>443857166</td>\n",
       "      <td>31693671</td>\n",
       "      <td>Caucasian</td>\n",
       "      <td>Female</td>\n",
       "      <td>[80-90)</td>\n",
       "      <td>?</td>\n",
       "      <td>2</td>\n",
       "      <td>3</td>\n",
       "      <td>7</td>\n",
       "      <td>10</td>\n",
       "      <td>...</td>\n",
       "      <td>No</td>\n",
       "      <td>Up</td>\n",
       "      <td>No</td>\n",
       "      <td>No</td>\n",
       "      <td>No</td>\n",
       "      <td>No</td>\n",
       "      <td>No</td>\n",
       "      <td>Ch</td>\n",
       "      <td>Yes</td>\n",
       "      <td>NO</td>\n",
       "    </tr>\n",
       "    <tr>\n",
       "      <th>101765</th>\n",
       "      <td>443867222</td>\n",
       "      <td>175429310</td>\n",
       "      <td>Caucasian</td>\n",
       "      <td>Male</td>\n",
       "      <td>[70-80)</td>\n",
       "      <td>?</td>\n",
       "      <td>1</td>\n",
       "      <td>1</td>\n",
       "      <td>7</td>\n",
       "      <td>6</td>\n",
       "      <td>...</td>\n",
       "      <td>No</td>\n",
       "      <td>No</td>\n",
       "      <td>No</td>\n",
       "      <td>No</td>\n",
       "      <td>No</td>\n",
       "      <td>No</td>\n",
       "      <td>No</td>\n",
       "      <td>No</td>\n",
       "      <td>No</td>\n",
       "      <td>NO</td>\n",
       "    </tr>\n",
       "  </tbody>\n",
       "</table>\n",
       "<p>101766 rows × 50 columns</p>\n",
       "</div>"
      ]
     },
     "execution_count": 2,
     "metadata": {},
     "output_type": "execute_result"
    }
   ],
   "execution_count": 2
  },
  {
   "metadata": {
    "ExecuteTime": {
     "end_time": "2024-05-19T01:16:30.422016Z",
     "start_time": "2024-05-19T01:16:30.419251Z"
    }
   },
   "cell_type": "code",
   "source": "print('The data set contains', df.shape[0],'rows and ',df.shape[1],'columns')",
   "outputs": [
    {
     "name": "stdout",
     "output_type": "stream",
     "text": [
      "The data set contains 101766 rows and  50 columns\n"
     ]
    }
   ],
   "execution_count": 3
  },
  {
   "metadata": {},
   "cell_type": "markdown",
   "source": "## 1.2. Data Preparation"
  },
  {
   "metadata": {
    "ExecuteTime": {
     "end_time": "2024-05-19T01:16:30.650391Z",
     "start_time": "2024-05-19T01:16:30.423330Z"
    }
   },
   "cell_type": "code",
   "source": "df.info()",
   "outputs": [
    {
     "name": "stdout",
     "output_type": "stream",
     "text": [
      "<class 'pandas.core.frame.DataFrame'>\n",
      "RangeIndex: 101766 entries, 0 to 101765\n",
      "Data columns (total 50 columns):\n",
      " #   Column                    Non-Null Count   Dtype \n",
      "---  ------                    --------------   ----- \n",
      " 0   encounter_id              101766 non-null  int64 \n",
      " 1   patient_nbr               101766 non-null  int64 \n",
      " 2   race                      101766 non-null  object\n",
      " 3   gender                    101766 non-null  object\n",
      " 4   age                       101766 non-null  object\n",
      " 5   weight                    101766 non-null  object\n",
      " 6   admission_type_id         101766 non-null  int64 \n",
      " 7   discharge_disposition_id  101766 non-null  int64 \n",
      " 8   admission_source_id       101766 non-null  int64 \n",
      " 9   time_in_hospital          101766 non-null  int64 \n",
      " 10  payer_code                101766 non-null  object\n",
      " 11  medical_specialty         101766 non-null  object\n",
      " 12  num_lab_procedures        101766 non-null  int64 \n",
      " 13  num_procedures            101766 non-null  int64 \n",
      " 14  num_medications           101766 non-null  int64 \n",
      " 15  number_outpatient         101766 non-null  int64 \n",
      " 16  number_emergency          101766 non-null  int64 \n",
      " 17  number_inpatient          101766 non-null  int64 \n",
      " 18  diag_1                    101766 non-null  object\n",
      " 19  diag_2                    101766 non-null  object\n",
      " 20  diag_3                    101766 non-null  object\n",
      " 21  number_diagnoses          101766 non-null  int64 \n",
      " 22  max_glu_serum             101766 non-null  object\n",
      " 23  A1Cresult                 101766 non-null  object\n",
      " 24  metformin                 101766 non-null  object\n",
      " 25  repaglinide               101766 non-null  object\n",
      " 26  nateglinide               101766 non-null  object\n",
      " 27  chlorpropamide            101766 non-null  object\n",
      " 28  glimepiride               101766 non-null  object\n",
      " 29  acetohexamide             101766 non-null  object\n",
      " 30  glipizide                 101766 non-null  object\n",
      " 31  glyburide                 101766 non-null  object\n",
      " 32  tolbutamide               101766 non-null  object\n",
      " 33  pioglitazone              101766 non-null  object\n",
      " 34  rosiglitazone             101766 non-null  object\n",
      " 35  acarbose                  101766 non-null  object\n",
      " 36  miglitol                  101766 non-null  object\n",
      " 37  troglitazone              101766 non-null  object\n",
      " 38  tolazamide                101766 non-null  object\n",
      " 39  examide                   101766 non-null  object\n",
      " 40  citoglipton               101766 non-null  object\n",
      " 41  insulin                   101766 non-null  object\n",
      " 42  glyburide-metformin       101766 non-null  object\n",
      " 43  glipizide-metformin       101766 non-null  object\n",
      " 44  glimepiride-pioglitazone  101766 non-null  object\n",
      " 45  metformin-rosiglitazone   101766 non-null  object\n",
      " 46  metformin-pioglitazone    101766 non-null  object\n",
      " 47  change                    101766 non-null  object\n",
      " 48  diabetesMed               101766 non-null  object\n",
      " 49  readmitted                101766 non-null  object\n",
      "dtypes: int64(13), object(37)\n",
      "memory usage: 38.8+ MB\n"
     ]
    }
   ],
   "execution_count": 4
  },
  {
   "metadata": {
    "ExecuteTime": {
     "end_time": "2024-05-19T01:16:30.876428Z",
     "start_time": "2024-05-19T01:16:30.651228Z"
    }
   },
   "cell_type": "code",
   "source": "df.isnull().sum()",
   "outputs": [
    {
     "data": {
      "text/plain": [
       "encounter_id                0\n",
       "patient_nbr                 0\n",
       "race                        0\n",
       "gender                      0\n",
       "age                         0\n",
       "weight                      0\n",
       "admission_type_id           0\n",
       "discharge_disposition_id    0\n",
       "admission_source_id         0\n",
       "time_in_hospital            0\n",
       "payer_code                  0\n",
       "medical_specialty           0\n",
       "num_lab_procedures          0\n",
       "num_procedures              0\n",
       "num_medications             0\n",
       "number_outpatient           0\n",
       "number_emergency            0\n",
       "number_inpatient            0\n",
       "diag_1                      0\n",
       "diag_2                      0\n",
       "diag_3                      0\n",
       "number_diagnoses            0\n",
       "max_glu_serum               0\n",
       "A1Cresult                   0\n",
       "metformin                   0\n",
       "repaglinide                 0\n",
       "nateglinide                 0\n",
       "chlorpropamide              0\n",
       "glimepiride                 0\n",
       "acetohexamide               0\n",
       "glipizide                   0\n",
       "glyburide                   0\n",
       "tolbutamide                 0\n",
       "pioglitazone                0\n",
       "rosiglitazone               0\n",
       "acarbose                    0\n",
       "miglitol                    0\n",
       "troglitazone                0\n",
       "tolazamide                  0\n",
       "examide                     0\n",
       "citoglipton                 0\n",
       "insulin                     0\n",
       "glyburide-metformin         0\n",
       "glipizide-metformin         0\n",
       "glimepiride-pioglitazone    0\n",
       "metformin-rosiglitazone     0\n",
       "metformin-pioglitazone      0\n",
       "change                      0\n",
       "diabetesMed                 0\n",
       "readmitted                  0\n",
       "dtype: int64"
      ]
     },
     "execution_count": 5,
     "metadata": {},
     "output_type": "execute_result"
    }
   ],
   "execution_count": 5
  },
  {
   "metadata": {},
   "cell_type": "markdown",
   "source": "### 1.2.1. Dropping Duplicates / Patients with no medication"
  },
  {
   "metadata": {
    "ExecuteTime": {
     "end_time": "2024-05-19T01:16:31.211883Z",
     "start_time": "2024-05-19T01:16:31.031285Z"
    }
   },
   "cell_type": "code",
   "source": [
    "df1 = df.copy().drop_duplicates()\n",
    "df1 = df1[df1['num_medications']>0]\n",
    "print('The data structure now is', df1.shape[0], ' rows and ', df1.shape[1], 'columns')"
   ],
   "outputs": [
    {
     "name": "stdout",
     "output_type": "stream",
     "text": [
      "The data structure now is 101766  rows and  50 columns\n"
     ]
    }
   ],
   "execution_count": 6
  },
  {
   "metadata": {},
   "cell_type": "markdown",
   "source": "### 1.2.2. Data Transformation"
  },
  {
   "metadata": {
    "ExecuteTime": {
     "end_time": "2024-05-19T01:16:31.593250Z",
     "start_time": "2024-05-19T01:16:31.586683Z"
    }
   },
   "cell_type": "code",
   "source": "display(df1['max_glu_serum'].value_counts(dropna=False))",
   "outputs": [
    {
     "data": {
      "text/plain": [
       "None    96420\n",
       "Norm     2597\n",
       ">200     1485\n",
       ">300     1264\n",
       "Name: max_glu_serum, dtype: int64"
      ]
     },
     "metadata": {},
     "output_type": "display_data"
    }
   ],
   "execution_count": 7
  },
  {
   "metadata": {
    "ExecuteTime": {
     "end_time": "2024-05-19T01:16:31.848326Z",
     "start_time": "2024-05-19T01:16:31.843931Z"
    }
   },
   "cell_type": "code",
   "source": "display(df1['A1Cresult'].value_counts(dropna=False))",
   "outputs": [
    {
     "data": {
      "text/plain": [
       "None    84748\n",
       ">8       8216\n",
       "Norm     4990\n",
       ">7       3812\n",
       "Name: A1Cresult, dtype: int64"
      ]
     },
     "metadata": {},
     "output_type": "display_data"
    }
   ],
   "execution_count": 8
  },
  {
   "metadata": {},
   "cell_type": "markdown",
   "source": "#### Categorical Variables to Binary Variables"
  },
  {
   "metadata": {
    "ExecuteTime": {
     "end_time": "2024-05-19T01:16:32.424215Z",
     "start_time": "2024-05-19T01:16:32.356514Z"
    }
   },
   "cell_type": "code",
   "source": [
    "# Gender\n",
    "df1.drop(df1.index[df1['gender']=='Unknown/Invalid'] , inplace=True)\n",
    "df1['gender'] = df1['gender'].replace({'Female': 0, 'Male': 1}).astype(int)"
   ],
   "outputs": [],
   "execution_count": 9
  },
  {
   "metadata": {
    "ExecuteTime": {
     "end_time": "2024-05-19T01:16:32.674049Z",
     "start_time": "2024-05-19T01:16:32.633647Z"
    }
   },
   "cell_type": "code",
   "source": [
    "# max_glu_serum\n",
    "df1['max_glu_serum'].fillna('None', inplace=True)\n",
    "df1['max_glu_serum'] = df1['max_glu_serum'].apply(lambda x: 0 if x in ['None', 'Norm'] else 1).astype(int)"
   ],
   "outputs": [],
   "execution_count": 10
  },
  {
   "metadata": {
    "ExecuteTime": {
     "end_time": "2024-05-19T01:16:32.895524Z",
     "start_time": "2024-05-19T01:16:32.859447Z"
    }
   },
   "cell_type": "code",
   "source": [
    "# A1Cresult\n",
    "df1['A1Cresult'].fillna('None', inplace=True)\n",
    "df1['A1Cresult'] = df1['A1Cresult'].apply(lambda x: 0 if x == 'None' else 1).astype(int)"
   ],
   "outputs": [],
   "execution_count": 11
  },
  {
   "metadata": {
    "ExecuteTime": {
     "end_time": "2024-05-19T01:16:33.135048Z",
     "start_time": "2024-05-19T01:16:33.097417Z"
    }
   },
   "cell_type": "code",
   "source": [
    "# race\n",
    "df1['race'] = df1['race'].apply(lambda x: 'Other' if x == '?' else x)\n",
    "df1['race'] = df1['race'].apply(lambda x: 1 if x == 'Caucasian' else 0).astype(int)"
   ],
   "outputs": [],
   "execution_count": 12
  },
  {
   "metadata": {
    "ExecuteTime": {
     "end_time": "2024-05-19T01:16:33.362988Z",
     "start_time": "2024-05-19T01:16:33.328299Z"
    }
   },
   "cell_type": "code",
   "source": [
    "# change\n",
    "df1['change'] = df1['change'].replace({'No':0, 'Ch':1}).astype(int)"
   ],
   "outputs": [],
   "execution_count": 13
  },
  {
   "metadata": {
    "ExecuteTime": {
     "end_time": "2024-05-19T01:16:33.619748Z",
     "start_time": "2024-05-19T01:16:33.582673Z"
    }
   },
   "cell_type": "code",
   "source": [
    "# diabetesMed\n",
    "df1['diabetesMed'] = df1['diabetesMed'].replace({'No':0, 'Yes':1}).astype(int)"
   ],
   "outputs": [],
   "execution_count": 14
  },
  {
   "metadata": {},
   "cell_type": "markdown",
   "source": "#### Adding ICD-9 Column"
  },
  {
   "metadata": {
    "ExecuteTime": {
     "end_time": "2024-05-19T01:16:34.038679Z",
     "start_time": "2024-05-19T01:16:34.035637Z"
    }
   },
   "cell_type": "code",
   "source": "df1['diag_1'].head()",
   "outputs": [
    {
     "data": {
      "text/plain": [
       "0    250.83\n",
       "1       276\n",
       "2       648\n",
       "3         8\n",
       "4       197\n",
       "Name: diag_1, dtype: object"
      ]
     },
     "execution_count": 15,
     "metadata": {},
     "output_type": "execute_result"
    }
   ],
   "execution_count": 15
  },
  {
   "metadata": {
    "ExecuteTime": {
     "end_time": "2024-05-19T01:16:34.574418Z",
     "start_time": "2024-05-19T01:16:34.277109Z"
    }
   },
   "cell_type": "code",
   "source": [
    "import re\n",
    "cat = [\"circulatory\", \"circulatory\",\"diabetes\",  \"digestive\", \"genitourinary\",\"genitourinary\", \"musculoskeletal\", \"neoplasms\", \"neoplasms\", \"injury\", \"respiratory\", \"respiratory\"]\n",
    "\n",
    "regex_patts = [\n",
    "    r\"\\b(39[0-9])\\b\",  # circulatory\n",
    "    r\"\\b(4[0-5][0-9])\\b\",  # circulatory\n",
    "    r\"\\b(250*)\\b\", # diabetes\n",
    "    r\"\\b5[2-7][0-9]\\b\",  # digestive    \n",
    "    r\"\\b5[8-9][0-9]\\b\",  # genitourinary\n",
    "    r\"\\b6[0-2][0-9]\\b\",  # genitourinary\n",
    "    r\"\\b7[1-3][0-9]\\b\", # musculoskeletal\n",
    "    r\"\\b1[4-9][0-9]\\b\", # neoplasms\n",
    "    r\"\\b2[0-3][0-9]\\b\", # neoplasms\n",
    "    r\"\\b[8-9][0-9][0-9]\\b\", # injury\n",
    "    r\"\\b4[6-9][0-9]\\b\", # respiratory\n",
    "    r\"\\b5[0-1][0-9]\\b\" # respiratory\n",
    "]\n",
    "\n",
    "code_mapping = {}\n",
    "\n",
    "for cat, regex_patts in zip(cat, regex_patts):\n",
    "    for code in df1['diag_1']:\n",
    "        if re.match(regex_patts, str(code)):\n",
    "            code_mapping[code] = cat"
   ],
   "outputs": [],
   "execution_count": 16
  },
  {
   "metadata": {
    "ExecuteTime": {
     "end_time": "2024-05-19T01:16:34.613939Z",
     "start_time": "2024-05-19T01:16:34.575324Z"
    }
   },
   "cell_type": "code",
   "source": [
    "df1['ICD-9'] = df1[\"diag_1\"].map(code_mapping).fillna(\"Other\")\n",
    "df1[['diag_1','ICD-9']].head()"
   ],
   "outputs": [
    {
     "data": {
      "text/plain": [
       "   diag_1      ICD-9\n",
       "0  250.83   diabetes\n",
       "1     276      Other\n",
       "2     648      Other\n",
       "3       8      Other\n",
       "4     197  neoplasms"
      ],
      "text/html": [
       "<div>\n",
       "<style scoped>\n",
       "    .dataframe tbody tr th:only-of-type {\n",
       "        vertical-align: middle;\n",
       "    }\n",
       "\n",
       "    .dataframe tbody tr th {\n",
       "        vertical-align: top;\n",
       "    }\n",
       "\n",
       "    .dataframe thead th {\n",
       "        text-align: right;\n",
       "    }\n",
       "</style>\n",
       "<table border=\"1\" class=\"dataframe\">\n",
       "  <thead>\n",
       "    <tr style=\"text-align: right;\">\n",
       "      <th></th>\n",
       "      <th>diag_1</th>\n",
       "      <th>ICD-9</th>\n",
       "    </tr>\n",
       "  </thead>\n",
       "  <tbody>\n",
       "    <tr>\n",
       "      <th>0</th>\n",
       "      <td>250.83</td>\n",
       "      <td>diabetes</td>\n",
       "    </tr>\n",
       "    <tr>\n",
       "      <th>1</th>\n",
       "      <td>276</td>\n",
       "      <td>Other</td>\n",
       "    </tr>\n",
       "    <tr>\n",
       "      <th>2</th>\n",
       "      <td>648</td>\n",
       "      <td>Other</td>\n",
       "    </tr>\n",
       "    <tr>\n",
       "      <th>3</th>\n",
       "      <td>8</td>\n",
       "      <td>Other</td>\n",
       "    </tr>\n",
       "    <tr>\n",
       "      <th>4</th>\n",
       "      <td>197</td>\n",
       "      <td>neoplasms</td>\n",
       "    </tr>\n",
       "  </tbody>\n",
       "</table>\n",
       "</div>"
      ]
     },
     "execution_count": 17,
     "metadata": {},
     "output_type": "execute_result"
    }
   ],
   "execution_count": 17
  },
  {
   "metadata": {},
   "cell_type": "markdown",
   "source": "#### Replacing age for numerival variables (Mean)"
  },
  {
   "metadata": {
    "ExecuteTime": {
     "end_time": "2024-05-19T01:16:35.275505Z",
     "start_time": "2024-05-19T01:16:35.272770Z"
    }
   },
   "cell_type": "code",
   "source": "df1['age'].head()",
   "outputs": [
    {
     "data": {
      "text/plain": [
       "0     [0-10)\n",
       "1    [10-20)\n",
       "2    [20-30)\n",
       "3    [30-40)\n",
       "4    [40-50)\n",
       "Name: age, dtype: object"
      ]
     },
     "execution_count": 18,
     "metadata": {},
     "output_type": "execute_result"
    }
   ],
   "execution_count": 18
  },
  {
   "metadata": {
    "ExecuteTime": {
     "end_time": "2024-05-19T01:16:35.874936Z",
     "start_time": "2024-05-19T01:16:35.872824Z"
    }
   },
   "cell_type": "code",
   "source": [
    "def mean_age(text):\n",
    "    pos = int(text.index('-'))\n",
    "    a = int(text[1:pos])\n",
    "    b = int(text[pos+1:-1])\n",
    "    return (a+b)//2"
   ],
   "outputs": [],
   "execution_count": 19
  },
  {
   "metadata": {
    "ExecuteTime": {
     "end_time": "2024-05-19T01:16:36.451140Z",
     "start_time": "2024-05-19T01:16:36.402042Z"
    }
   },
   "cell_type": "code",
   "source": [
    "df1['age'] = df1['age'].apply(mean_age)\n",
    "df1['age'].head()"
   ],
   "outputs": [
    {
     "data": {
      "text/plain": [
       "0     5\n",
       "1    15\n",
       "2    25\n",
       "3    35\n",
       "4    45\n",
       "Name: age, dtype: int64"
      ]
     },
     "execution_count": 20,
     "metadata": {},
     "output_type": "execute_result"
    }
   ],
   "execution_count": 20
  },
  {
   "metadata": {},
   "cell_type": "markdown",
   "source": "### 1.3. Literature Review (Granda Morales et al)"
  },
  {
   "metadata": {},
   "cell_type": "markdown",
   "source": "### 1.3.1. Variable Selection (Removed by the Researchers)"
  },
  {
   "metadata": {
    "ExecuteTime": {
     "end_time": "2024-05-19T01:16:38.808780Z",
     "start_time": "2024-05-19T01:16:38.778647Z"
    }
   },
   "cell_type": "code",
   "source": "df2 = df1.copy().drop(['encounter_id','patient_nbr','weight', 'chlorpropamide', 'tolazamide','tolbutamide','examide', 'citoglipton', 'glipizide-metformin','glimepiride-pioglitazone','metformin-rosiglitazone', 'metformin-pioglitazone', 'acetohexamide', 'troglitazone', 'miglitol', 'acarbose', 'payer_code', 'medical_specialty','diag_1','diag_2','diag_3'], axis =1)",
   "outputs": [],
   "execution_count": 21
  },
  {
   "metadata": {
    "ExecuteTime": {
     "end_time": "2024-05-19T01:16:39.209570Z",
     "start_time": "2024-05-19T01:16:39.045150Z"
    }
   },
   "cell_type": "code",
   "source": [
    "df2['circulatory'] = [1 if x == 'circulatory' else 0 for x in df2['ICD-9']]\n",
    "df2['diabetes'] = [1 if x == 'diabetes' else 0 for x in df2['ICD-9']]\n",
    "df2['digestive'] = [1 if x == 'digestive' else 0 for x in df2['ICD-9']]\n",
    "df2['genitourinary'] = [1 if x == 'genitourinary' else 0 for x in df2['ICD-9']]\n",
    "df2['injury'] = [1 if x == 'injury' else 0 for x in df2['ICD-9']]\n",
    "df2['musculoskeletal'] = [1 if x == 'musculoskeletal' else 0 for x in df2['ICD-9']]\n",
    "df2['neoplasms'] = [1 if x == 'neoplasms' else 0 for x in df2['ICD-9']]\n",
    "df2['respiratory'] = [1 if x == 'respiratory' else 0 for x in df2['ICD-9']]\n",
    "df2['Other'] = [1 if x == 'Other' else 0 for x in df2['ICD-9']]\n",
    "df2.drop(['ICD-9'], axis=1, inplace=True)"
   ],
   "outputs": [],
   "execution_count": 22
  },
  {
   "metadata": {},
   "cell_type": "markdown",
   "source": "### 1.3.2. Keep Patients who had Taken at least two medications"
  },
  {
   "metadata": {
    "ExecuteTime": {
     "end_time": "2024-05-19T01:16:39.532146Z",
     "start_time": "2024-05-19T01:16:39.513585Z"
    }
   },
   "cell_type": "code",
   "source": "df2 = df2[df2['num_medications']>=2]",
   "outputs": [],
   "execution_count": 23
  },
  {
   "metadata": {
    "ExecuteTime": {
     "end_time": "2024-05-19T01:16:39.833299Z",
     "start_time": "2024-05-19T01:16:39.758480Z"
    }
   },
   "cell_type": "code",
   "source": "df2.info()",
   "outputs": [
    {
     "name": "stdout",
     "output_type": "stream",
     "text": [
      "<class 'pandas.core.frame.DataFrame'>\n",
      "Int64Index: 101501 entries, 1 to 101765\n",
      "Data columns (total 38 columns):\n",
      " #   Column                    Non-Null Count   Dtype \n",
      "---  ------                    --------------   ----- \n",
      " 0   race                      101501 non-null  int64 \n",
      " 1   gender                    101501 non-null  int64 \n",
      " 2   age                       101501 non-null  int64 \n",
      " 3   admission_type_id         101501 non-null  int64 \n",
      " 4   discharge_disposition_id  101501 non-null  int64 \n",
      " 5   admission_source_id       101501 non-null  int64 \n",
      " 6   time_in_hospital          101501 non-null  int64 \n",
      " 7   num_lab_procedures        101501 non-null  int64 \n",
      " 8   num_procedures            101501 non-null  int64 \n",
      " 9   num_medications           101501 non-null  int64 \n",
      " 10  number_outpatient         101501 non-null  int64 \n",
      " 11  number_emergency          101501 non-null  int64 \n",
      " 12  number_inpatient          101501 non-null  int64 \n",
      " 13  number_diagnoses          101501 non-null  int64 \n",
      " 14  max_glu_serum             101501 non-null  int64 \n",
      " 15  A1Cresult                 101501 non-null  int64 \n",
      " 16  metformin                 101501 non-null  object\n",
      " 17  repaglinide               101501 non-null  object\n",
      " 18  nateglinide               101501 non-null  object\n",
      " 19  glimepiride               101501 non-null  object\n",
      " 20  glipizide                 101501 non-null  object\n",
      " 21  glyburide                 101501 non-null  object\n",
      " 22  pioglitazone              101501 non-null  object\n",
      " 23  rosiglitazone             101501 non-null  object\n",
      " 24  insulin                   101501 non-null  object\n",
      " 25  glyburide-metformin       101501 non-null  object\n",
      " 26  change                    101501 non-null  int64 \n",
      " 27  diabetesMed               101501 non-null  int64 \n",
      " 28  readmitted                101501 non-null  object\n",
      " 29  circulatory               101501 non-null  int64 \n",
      " 30  diabetes                  101501 non-null  int64 \n",
      " 31  digestive                 101501 non-null  int64 \n",
      " 32  genitourinary             101501 non-null  int64 \n",
      " 33  injury                    101501 non-null  int64 \n",
      " 34  musculoskeletal           101501 non-null  int64 \n",
      " 35  neoplasms                 101501 non-null  int64 \n",
      " 36  respiratory               101501 non-null  int64 \n",
      " 37  Other                     101501 non-null  int64 \n",
      "dtypes: int64(27), object(11)\n",
      "memory usage: 30.2+ MB\n"
     ]
    }
   ],
   "execution_count": 24
  },
  {
   "metadata": {
    "ExecuteTime": {
     "end_time": "2024-05-19T01:16:40.048670Z",
     "start_time": "2024-05-19T01:16:40.043586Z"
    }
   },
   "cell_type": "code",
   "source": "df2.head()",
   "outputs": [
    {
     "data": {
      "text/plain": [
       "   race  gender  age  admission_type_id  discharge_disposition_id  \\\n",
       "1     1       0   15                  1                         1   \n",
       "2     0       0   25                  1                         1   \n",
       "3     1       1   35                  1                         1   \n",
       "4     1       1   45                  1                         1   \n",
       "5     1       1   55                  2                         1   \n",
       "\n",
       "   admission_source_id  time_in_hospital  num_lab_procedures  num_procedures  \\\n",
       "1                    7                 3                  59               0   \n",
       "2                    7                 2                  11               5   \n",
       "3                    7                 2                  44               1   \n",
       "4                    7                 1                  51               0   \n",
       "5                    2                 3                  31               6   \n",
       "\n",
       "   num_medications  ...  readmitted  circulatory  diabetes  digestive  \\\n",
       "1               18  ...         >30            0         0          0   \n",
       "2               13  ...          NO            0         0          0   \n",
       "3               16  ...          NO            0         0          0   \n",
       "4                8  ...          NO            0         0          0   \n",
       "5               16  ...         >30            1         0          0   \n",
       "\n",
       "   genitourinary  injury musculoskeletal neoplasms respiratory Other  \n",
       "1              0       0               0         0           0     1  \n",
       "2              0       0               0         0           0     1  \n",
       "3              0       0               0         0           0     1  \n",
       "4              0       0               0         1           0     0  \n",
       "5              0       0               0         0           0     0  \n",
       "\n",
       "[5 rows x 38 columns]"
      ],
      "text/html": [
       "<div>\n",
       "<style scoped>\n",
       "    .dataframe tbody tr th:only-of-type {\n",
       "        vertical-align: middle;\n",
       "    }\n",
       "\n",
       "    .dataframe tbody tr th {\n",
       "        vertical-align: top;\n",
       "    }\n",
       "\n",
       "    .dataframe thead th {\n",
       "        text-align: right;\n",
       "    }\n",
       "</style>\n",
       "<table border=\"1\" class=\"dataframe\">\n",
       "  <thead>\n",
       "    <tr style=\"text-align: right;\">\n",
       "      <th></th>\n",
       "      <th>race</th>\n",
       "      <th>gender</th>\n",
       "      <th>age</th>\n",
       "      <th>admission_type_id</th>\n",
       "      <th>discharge_disposition_id</th>\n",
       "      <th>admission_source_id</th>\n",
       "      <th>time_in_hospital</th>\n",
       "      <th>num_lab_procedures</th>\n",
       "      <th>num_procedures</th>\n",
       "      <th>num_medications</th>\n",
       "      <th>...</th>\n",
       "      <th>readmitted</th>\n",
       "      <th>circulatory</th>\n",
       "      <th>diabetes</th>\n",
       "      <th>digestive</th>\n",
       "      <th>genitourinary</th>\n",
       "      <th>injury</th>\n",
       "      <th>musculoskeletal</th>\n",
       "      <th>neoplasms</th>\n",
       "      <th>respiratory</th>\n",
       "      <th>Other</th>\n",
       "    </tr>\n",
       "  </thead>\n",
       "  <tbody>\n",
       "    <tr>\n",
       "      <th>1</th>\n",
       "      <td>1</td>\n",
       "      <td>0</td>\n",
       "      <td>15</td>\n",
       "      <td>1</td>\n",
       "      <td>1</td>\n",
       "      <td>7</td>\n",
       "      <td>3</td>\n",
       "      <td>59</td>\n",
       "      <td>0</td>\n",
       "      <td>18</td>\n",
       "      <td>...</td>\n",
       "      <td>&gt;30</td>\n",
       "      <td>0</td>\n",
       "      <td>0</td>\n",
       "      <td>0</td>\n",
       "      <td>0</td>\n",
       "      <td>0</td>\n",
       "      <td>0</td>\n",
       "      <td>0</td>\n",
       "      <td>0</td>\n",
       "      <td>1</td>\n",
       "    </tr>\n",
       "    <tr>\n",
       "      <th>2</th>\n",
       "      <td>0</td>\n",
       "      <td>0</td>\n",
       "      <td>25</td>\n",
       "      <td>1</td>\n",
       "      <td>1</td>\n",
       "      <td>7</td>\n",
       "      <td>2</td>\n",
       "      <td>11</td>\n",
       "      <td>5</td>\n",
       "      <td>13</td>\n",
       "      <td>...</td>\n",
       "      <td>NO</td>\n",
       "      <td>0</td>\n",
       "      <td>0</td>\n",
       "      <td>0</td>\n",
       "      <td>0</td>\n",
       "      <td>0</td>\n",
       "      <td>0</td>\n",
       "      <td>0</td>\n",
       "      <td>0</td>\n",
       "      <td>1</td>\n",
       "    </tr>\n",
       "    <tr>\n",
       "      <th>3</th>\n",
       "      <td>1</td>\n",
       "      <td>1</td>\n",
       "      <td>35</td>\n",
       "      <td>1</td>\n",
       "      <td>1</td>\n",
       "      <td>7</td>\n",
       "      <td>2</td>\n",
       "      <td>44</td>\n",
       "      <td>1</td>\n",
       "      <td>16</td>\n",
       "      <td>...</td>\n",
       "      <td>NO</td>\n",
       "      <td>0</td>\n",
       "      <td>0</td>\n",
       "      <td>0</td>\n",
       "      <td>0</td>\n",
       "      <td>0</td>\n",
       "      <td>0</td>\n",
       "      <td>0</td>\n",
       "      <td>0</td>\n",
       "      <td>1</td>\n",
       "    </tr>\n",
       "    <tr>\n",
       "      <th>4</th>\n",
       "      <td>1</td>\n",
       "      <td>1</td>\n",
       "      <td>45</td>\n",
       "      <td>1</td>\n",
       "      <td>1</td>\n",
       "      <td>7</td>\n",
       "      <td>1</td>\n",
       "      <td>51</td>\n",
       "      <td>0</td>\n",
       "      <td>8</td>\n",
       "      <td>...</td>\n",
       "      <td>NO</td>\n",
       "      <td>0</td>\n",
       "      <td>0</td>\n",
       "      <td>0</td>\n",
       "      <td>0</td>\n",
       "      <td>0</td>\n",
       "      <td>0</td>\n",
       "      <td>1</td>\n",
       "      <td>0</td>\n",
       "      <td>0</td>\n",
       "    </tr>\n",
       "    <tr>\n",
       "      <th>5</th>\n",
       "      <td>1</td>\n",
       "      <td>1</td>\n",
       "      <td>55</td>\n",
       "      <td>2</td>\n",
       "      <td>1</td>\n",
       "      <td>2</td>\n",
       "      <td>3</td>\n",
       "      <td>31</td>\n",
       "      <td>6</td>\n",
       "      <td>16</td>\n",
       "      <td>...</td>\n",
       "      <td>&gt;30</td>\n",
       "      <td>1</td>\n",
       "      <td>0</td>\n",
       "      <td>0</td>\n",
       "      <td>0</td>\n",
       "      <td>0</td>\n",
       "      <td>0</td>\n",
       "      <td>0</td>\n",
       "      <td>0</td>\n",
       "      <td>0</td>\n",
       "    </tr>\n",
       "  </tbody>\n",
       "</table>\n",
       "<p>5 rows × 38 columns</p>\n",
       "</div>"
      ]
     },
     "execution_count": 25,
     "metadata": {},
     "output_type": "execute_result"
    }
   ],
   "execution_count": 25
  },
  {
   "metadata": {
    "ExecuteTime": {
     "end_time": "2024-05-19T01:17:10.117706Z",
     "start_time": "2024-05-19T01:17:10.097329Z"
    }
   },
   "cell_type": "code",
   "source": "df2['diabetes'].value_counts()",
   "outputs": [
    {
     "data": {
      "text/plain": [
       "0    92785\n",
       "1     8716\n",
       "Name: diabetes, dtype: int64"
      ]
     },
     "execution_count": 26,
     "metadata": {},
     "output_type": "execute_result"
    }
   ],
   "execution_count": 26
  },
  {
   "metadata": {},
   "cell_type": "markdown",
   "source": "## 1.4. Target (admitted)"
  },
  {
   "metadata": {
    "ExecuteTime": {
     "end_time": "2024-05-18T18:15:08.629903Z",
     "start_time": "2024-05-18T18:15:08.506399Z"
    }
   },
   "cell_type": "code",
   "source": [
    "df2.groupby(['age', 'readmitted']).size().unstack().plot(kind='bar')\n",
    "plt.show()"
   ],
   "outputs": [
    {
     "data": {
      "text/plain": [
       "<Figure size 640x480 with 1 Axes>"
      ],
      "image/png": "[encoded data removed]"
     },
     "metadata": {},
     "output_type": "display_data"
    }
   ],
   "execution_count": 26
  },
  {
   "metadata": {
    "ExecuteTime": {
     "end_time": "2024-05-18T18:15:08.756963Z",
     "start_time": "2024-05-18T18:15:08.746031Z"
    }
   },
   "cell_type": "code",
   "source": "df2['readmitted'].value_counts(normalize=True) * 100",
   "outputs": [
    {
     "data": {
      "text/plain": [
       "NO     53.873361\n",
       ">30    34.948424\n",
       "<30    11.178215\n",
       "Name: readmitted, dtype: float64"
      ]
     },
     "execution_count": 27,
     "metadata": {},
     "output_type": "execute_result"
    }
   ],
   "execution_count": 27
  },
  {
   "metadata": {},
   "cell_type": "markdown",
   "source": "Looking at this, we can notice that our data it is not balanced. So we proceed to make it more equally in counts. "
  },
  {
   "metadata": {
    "ExecuteTime": {
     "end_time": "2024-05-18T18:15:09.305046Z",
     "start_time": "2024-05-18T18:15:09.281526Z"
    }
   },
   "cell_type": "code",
   "source": [
    "df2['readmitted'] = df2['readmitted'].replace({'<30':'YES', '>30':'YES'})\n",
    "df2['readmitted'].value_counts(normalize=True)"
   ],
   "outputs": [
    {
     "data": {
      "text/plain": [
       "NO     0.538734\n",
       "YES    0.461266\n",
       "Name: readmitted, dtype: float64"
      ]
     },
     "execution_count": 28,
     "metadata": {},
     "output_type": "execute_result"
    }
   ],
   "execution_count": 28
  },
  {
   "metadata": {},
   "cell_type": "markdown",
   "source": "# 2. Pipeline"
  },
  {
   "metadata": {
    "ExecuteTime": {
     "end_time": "2024-05-18T18:15:12.138252Z",
     "start_time": "2024-05-18T18:15:12.058168Z"
    }
   },
   "cell_type": "code",
   "source": [
    "from sklearn.pipeline import Pipeline\n",
    "from sklearn.preprocessing import OneHotEncoder\n",
    "from sklearn.compose import ColumnTransformer"
   ],
   "outputs": [],
   "execution_count": 29
  },
  {
   "metadata": {
    "ExecuteTime": {
     "end_time": "2024-05-18T18:15:12.452695Z",
     "start_time": "2024-05-18T18:15:12.441593Z"
    }
   },
   "cell_type": "code",
   "source": "df_model1 = df2.drop('readmitted', axis=1)",
   "outputs": [],
   "execution_count": 30
  },
  {
   "metadata": {
    "ExecuteTime": {
     "end_time": "2024-05-18T18:15:12.806860Z",
     "start_time": "2024-05-18T18:15:12.796173Z"
    }
   },
   "cell_type": "code",
   "source": [
    "num_features = df_model1.select_dtypes(include=['int64', 'float64']).columns.tolist()\n",
    "cat_features = df_model1.select_dtypes(include=['object']).columns.tolist()"
   ],
   "outputs": [],
   "execution_count": 31
  },
  {
   "metadata": {
    "ExecuteTime": {
     "end_time": "2024-05-18T18:15:13.236509Z",
     "start_time": "2024-05-18T18:15:13.233219Z"
    }
   },
   "cell_type": "code",
   "source": "display(num_features, cat_features)",
   "outputs": [
    {
     "data": {
      "text/plain": [
       "['race',\n",
       " 'gender',\n",
       " 'age',\n",
       " 'admission_type_id',\n",
       " 'discharge_disposition_id',\n",
       " 'admission_source_id',\n",
       " 'time_in_hospital',\n",
       " 'num_lab_procedures',\n",
       " 'num_procedures',\n",
       " 'num_medications',\n",
       " 'number_outpatient',\n",
       " 'number_emergency',\n",
       " 'number_inpatient',\n",
       " 'number_diagnoses',\n",
       " 'max_glu_serum',\n",
       " 'A1Cresult',\n",
       " 'change',\n",
       " 'diabetesMed',\n",
       " 'circulatory',\n",
       " 'diabetes',\n",
       " 'digestive',\n",
       " 'genitourinary',\n",
       " 'injury',\n",
       " 'musculoskeletal',\n",
       " 'neoplasms',\n",
       " 'respiratory',\n",
       " 'Other']"
      ]
     },
     "metadata": {},
     "output_type": "display_data"
    },
    {
     "data": {
      "text/plain": [
       "['metformin',\n",
       " 'repaglinide',\n",
       " 'nateglinide',\n",
       " 'glimepiride',\n",
       " 'glipizide',\n",
       " 'glyburide',\n",
       " 'pioglitazone',\n",
       " 'rosiglitazone',\n",
       " 'insulin',\n",
       " 'glyburide-metformin']"
      ]
     },
     "metadata": {},
     "output_type": "display_data"
    }
   ],
   "execution_count": 32
  },
  {
   "metadata": {},
   "cell_type": "markdown",
   "source": "## 2.1. Categorical Variables"
  },
  {
   "metadata": {
    "ExecuteTime": {
     "end_time": "2024-05-18T18:15:14.700868Z",
     "start_time": "2024-05-18T18:15:14.610422Z"
    }
   },
   "cell_type": "code",
   "source": [
    "med_dict = { 'No':0, 'Down':1,'Steady':1, 'Up':1}\n",
    "for x in cat_features:\n",
    "    df_model1[x] = df_model1[x].map(med_dict)"
   ],
   "outputs": [],
   "execution_count": 33
  },
  {
   "metadata": {},
   "cell_type": "markdown",
   "source": "## 2.2. Setting model"
  },
  {
   "metadata": {
    "ExecuteTime": {
     "end_time": "2024-05-18T18:15:16.076597Z",
     "start_time": "2024-05-18T18:15:15.948821Z"
    }
   },
   "cell_type": "code",
   "source": "from sklearn.linear_model import LogisticRegression",
   "outputs": [],
   "execution_count": 34
  },
  {
   "metadata": {
    "ExecuteTime": {
     "end_time": "2024-05-18T18:15:16.883245Z",
     "start_time": "2024-05-18T18:15:16.881433Z"
    }
   },
   "cell_type": "code",
   "source": "log_reg = LogisticRegression(max_iter=10000, random_state=42)",
   "outputs": [],
   "execution_count": 35
  },
  {
   "metadata": {},
   "cell_type": "markdown",
   "source": "# 3. Split data (Train/Test)"
  },
  {
   "metadata": {
    "ExecuteTime": {
     "end_time": "2024-05-18T18:15:18.797574Z",
     "start_time": "2024-05-18T18:15:18.795884Z"
    }
   },
   "cell_type": "code",
   "source": "from sklearn.model_selection import train_test_split",
   "outputs": [],
   "execution_count": 36
  },
  {
   "metadata": {
    "ExecuteTime": {
     "end_time": "2024-05-18T18:15:19.599100Z",
     "start_time": "2024-05-18T18:15:19.597328Z"
    }
   },
   "cell_type": "code",
   "source": [
    "X = df_model1\n",
    "y = df2['readmitted']"
   ],
   "outputs": [],
   "execution_count": 37
  },
  {
   "metadata": {
    "ExecuteTime": {
     "end_time": "2024-05-18T18:15:20.243435Z",
     "start_time": "2024-05-18T18:15:20.171501Z"
    }
   },
   "cell_type": "code",
   "source": "X_train, X_test, y_train, y_test = train_test_split(X, y, test_size=0.2, random_state=42, stratify=y)",
   "outputs": [],
   "execution_count": 38
  },
  {
   "metadata": {
    "ExecuteTime": {
     "end_time": "2024-05-18T18:15:23.519549Z",
     "start_time": "2024-05-18T18:15:23.517200Z"
    }
   },
   "cell_type": "code",
   "source": [
    "print(\"Training data shape: {}\".format(X_train.shape))\n",
    "print(\"Test data shape: {}\".format(X_test.shape))"
   ],
   "outputs": [
    {
     "name": "stdout",
     "output_type": "stream",
     "text": [
      "Training data shape: (81200, 37)\n",
      "Test data shape: (20301, 37)\n"
     ]
    }
   ],
   "execution_count": 39
  },
  {
   "metadata": {
    "ExecuteTime": {
     "end_time": "2024-05-18T18:15:25.070124Z",
     "start_time": "2024-05-18T18:15:25.060516Z"
    }
   },
   "cell_type": "code",
   "source": "X_train",
   "outputs": [
    {
     "data": {
      "text/plain": [
       "       race  gender  age  admission_type_id  discharge_disposition_id  \\\n",
       "45974     1       0   85                  1                         3   \n",
       "29759     0       0   75                  5                         1   \n",
       "23090     1       1   55                  6                         1   \n",
       "9024      1       1   55                  1                         1   \n",
       "62381     1       1   55                  2                         1   \n",
       "...     ...     ...  ...                ...                       ...   \n",
       "70634     1       0   45                  5                         1   \n",
       "30095     0       0   85                  1                         1   \n",
       "54470     1       0   85                  1                        14   \n",
       "1965      1       0   55                  6                         1   \n",
       "61581     1       0   75                  1                        22   \n",
       "\n",
       "       admission_source_id  time_in_hospital  num_lab_procedures  \\\n",
       "45974                    7                 5                  72   \n",
       "29759                   17                 1                  18   \n",
       "23090                    7                 2                  43   \n",
       "9024                     7                 2                  35   \n",
       "62381                    1                 1                  30   \n",
       "...                    ...               ...                 ...   \n",
       "70634                    1                 3                   2   \n",
       "30095                    6                 2                  48   \n",
       "54470                    7                 3                  39   \n",
       "1965                    17                 8                  43   \n",
       "61581                    7                 6                  39   \n",
       "\n",
       "       num_procedures  num_medications  ...  diabetesMed  circulatory  \\\n",
       "45974               1               14  ...            1            0   \n",
       "29759               0               12  ...            1            1   \n",
       "23090               0                8  ...            0            0   \n",
       "9024                0                7  ...            1            1   \n",
       "62381               4               20  ...            1            0   \n",
       "...               ...              ...  ...          ...          ...   \n",
       "70634               3                9  ...            1            0   \n",
       "30095               0                3  ...            1            0   \n",
       "54470               0                9  ...            0            0   \n",
       "1965                5               30  ...            0            0   \n",
       "61581               2                9  ...            1            0   \n",
       "\n",
       "       diabetes  digestive  genitourinary  injury  musculoskeletal  neoplasms  \\\n",
       "45974         0          1              0       0                0          0   \n",
       "29759         0          0              0       0                0          0   \n",
       "23090         0          0              0       0                0          0   \n",
       "9024          0          0              0       0                0          0   \n",
       "62381         0          0              0       0                0          0   \n",
       "...         ...        ...            ...     ...              ...        ...   \n",
       "70634         0          0              0       0                0          0   \n",
       "30095         0          0              0       0                0          0   \n",
       "54470         0          0              1       0                0          0   \n",
       "1965          0          1              0       0                0          0   \n",
       "61581         0          0              0       1                0          0   \n",
       "\n",
       "       respiratory  Other  \n",
       "45974            0      0  \n",
       "29759            0      0  \n",
       "23090            0      1  \n",
       "9024             0      0  \n",
       "62381            0      1  \n",
       "...            ...    ...  \n",
       "70634            0      1  \n",
       "30095            0      1  \n",
       "54470            0      0  \n",
       "1965             0      0  \n",
       "61581            0      0  \n",
       "\n",
       "[81200 rows x 37 columns]"
      ],
      "text/html": [
       "<div>\n",
       "<style scoped>\n",
       "    .dataframe tbody tr th:only-of-type {\n",
       "        vertical-align: middle;\n",
       "    }\n",
       "\n",
       "    .dataframe tbody tr th {\n",
       "        vertical-align: top;\n",
       "    }\n",
       "\n",
       "    .dataframe thead th {\n",
       "        text-align: right;\n",
       "    }\n",
       "</style>\n",
       "<table border=\"1\" class=\"dataframe\">\n",
       "  <thead>\n",
       "    <tr style=\"text-align: right;\">\n",
       "      <th></th>\n",
       "      <th>race</th>\n",
       "      <th>gender</th>\n",
       "      <th>age</th>\n",
       "      <th>admission_type_id</th>\n",
       "      <th>discharge_disposition_id</th>\n",
       "      <th>admission_source_id</th>\n",
       "      <th>time_in_hospital</th>\n",
       "      <th>num_lab_procedures</th>\n",
       "      <th>num_procedures</th>\n",
       "      <th>num_medications</th>\n",
       "      <th>...</th>\n",
       "      <th>diabetesMed</th>\n",
       "      <th>circulatory</th>\n",
       "      <th>diabetes</th>\n",
       "      <th>digestive</th>\n",
       "      <th>genitourinary</th>\n",
       "      <th>injury</th>\n",
       "      <th>musculoskeletal</th>\n",
       "      <th>neoplasms</th>\n",
       "      <th>respiratory</th>\n",
       "      <th>Other</th>\n",
       "    </tr>\n",
       "  </thead>\n",
       "  <tbody>\n",
       "    <tr>\n",
       "      <th>45974</th>\n",
       "      <td>1</td>\n",
       "      <td>0</td>\n",
       "      <td>85</td>\n",
       "      <td>1</td>\n",
       "      <td>3</td>\n",
       "      <td>7</td>\n",
       "      <td>5</td>\n",
       "      <td>72</td>\n",
       "      <td>1</td>\n",
       "      <td>14</td>\n",
       "      <td>...</td>\n",
       "      <td>1</td>\n",
       "      <td>0</td>\n",
       "      <td>0</td>\n",
       "      <td>1</td>\n",
       "      <td>0</td>\n",
       "      <td>0</td>\n",
       "      <td>0</td>\n",
       "      <td>0</td>\n",
       "      <td>0</td>\n",
       "      <td>0</td>\n",
       "    </tr>\n",
       "    <tr>\n",
       "      <th>29759</th>\n",
       "      <td>0</td>\n",
       "      <td>0</td>\n",
       "      <td>75</td>\n",
       "      <td>5</td>\n",
       "      <td>1</td>\n",
       "      <td>17</td>\n",
       "      <td>1</td>\n",
       "      <td>18</td>\n",
       "      <td>0</td>\n",
       "      <td>12</td>\n",
       "      <td>...</td>\n",
       "      <td>1</td>\n",
       "      <td>1</td>\n",
       "      <td>0</td>\n",
       "      <td>0</td>\n",
       "      <td>0</td>\n",
       "      <td>0</td>\n",
       "      <td>0</td>\n",
       "      <td>0</td>\n",
       "      <td>0</td>\n",
       "      <td>0</td>\n",
       "    </tr>\n",
       "    <tr>\n",
       "      <th>23090</th>\n",
       "      <td>1</td>\n",
       "      <td>1</td>\n",
       "      <td>55</td>\n",
       "      <td>6</td>\n",
       "      <td>1</td>\n",
       "      <td>7</td>\n",
       "      <td>2</td>\n",
       "      <td>43</td>\n",
       "      <td>0</td>\n",
       "      <td>8</td>\n",
       "      <td>...</td>\n",
       "      <td>0</td>\n",
       "      <td>0</td>\n",
       "      <td>0</td>\n",
       "      <td>0</td>\n",
       "      <td>0</td>\n",
       "      <td>0</td>\n",
       "      <td>0</td>\n",
       "      <td>0</td>\n",
       "      <td>0</td>\n",
       "      <td>1</td>\n",
       "    </tr>\n",
       "    <tr>\n",
       "      <th>9024</th>\n",
       "      <td>1</td>\n",
       "      <td>1</td>\n",
       "      <td>55</td>\n",
       "      <td>1</td>\n",
       "      <td>1</td>\n",
       "      <td>7</td>\n",
       "      <td>2</td>\n",
       "      <td>35</td>\n",
       "      <td>0</td>\n",
       "      <td>7</td>\n",
       "      <td>...</td>\n",
       "      <td>1</td>\n",
       "      <td>1</td>\n",
       "      <td>0</td>\n",
       "      <td>0</td>\n",
       "      <td>0</td>\n",
       "      <td>0</td>\n",
       "      <td>0</td>\n",
       "      <td>0</td>\n",
       "      <td>0</td>\n",
       "      <td>0</td>\n",
       "    </tr>\n",
       "    <tr>\n",
       "      <th>62381</th>\n",
       "      <td>1</td>\n",
       "      <td>1</td>\n",
       "      <td>55</td>\n",
       "      <td>2</td>\n",
       "      <td>1</td>\n",
       "      <td>1</td>\n",
       "      <td>1</td>\n",
       "      <td>30</td>\n",
       "      <td>4</td>\n",
       "      <td>20</td>\n",
       "      <td>...</td>\n",
       "      <td>1</td>\n",
       "      <td>0</td>\n",
       "      <td>0</td>\n",
       "      <td>0</td>\n",
       "      <td>0</td>\n",
       "      <td>0</td>\n",
       "      <td>0</td>\n",
       "      <td>0</td>\n",
       "      <td>0</td>\n",
       "      <td>1</td>\n",
       "    </tr>\n",
       "    <tr>\n",
       "      <th>...</th>\n",
       "      <td>...</td>\n",
       "      <td>...</td>\n",
       "      <td>...</td>\n",
       "      <td>...</td>\n",
       "      <td>...</td>\n",
       "      <td>...</td>\n",
       "      <td>...</td>\n",
       "      <td>...</td>\n",
       "      <td>...</td>\n",
       "      <td>...</td>\n",
       "      <td>...</td>\n",
       "      <td>...</td>\n",
       "      <td>...</td>\n",
       "      <td>...</td>\n",
       "      <td>...</td>\n",
       "      <td>...</td>\n",
       "      <td>...</td>\n",
       "      <td>...</td>\n",
       "      <td>...</td>\n",
       "      <td>...</td>\n",
       "      <td>...</td>\n",
       "    </tr>\n",
       "    <tr>\n",
       "      <th>70634</th>\n",
       "      <td>1</td>\n",
       "      <td>0</td>\n",
       "      <td>45</td>\n",
       "      <td>5</td>\n",
       "      <td>1</td>\n",
       "      <td>1</td>\n",
       "      <td>3</td>\n",
       "      <td>2</td>\n",
       "      <td>3</td>\n",
       "      <td>9</td>\n",
       "      <td>...</td>\n",
       "      <td>1</td>\n",
       "      <td>0</td>\n",
       "      <td>0</td>\n",
       "      <td>0</td>\n",
       "      <td>0</td>\n",
       "      <td>0</td>\n",
       "      <td>0</td>\n",
       "      <td>0</td>\n",
       "      <td>0</td>\n",
       "      <td>1</td>\n",
       "    </tr>\n",
       "    <tr>\n",
       "      <th>30095</th>\n",
       "      <td>0</td>\n",
       "      <td>0</td>\n",
       "      <td>85</td>\n",
       "      <td>1</td>\n",
       "      <td>1</td>\n",
       "      <td>6</td>\n",
       "      <td>2</td>\n",
       "      <td>48</td>\n",
       "      <td>0</td>\n",
       "      <td>3</td>\n",
       "      <td>...</td>\n",
       "      <td>1</td>\n",
       "      <td>0</td>\n",
       "      <td>0</td>\n",
       "      <td>0</td>\n",
       "      <td>0</td>\n",
       "      <td>0</td>\n",
       "      <td>0</td>\n",
       "      <td>0</td>\n",
       "      <td>0</td>\n",
       "      <td>1</td>\n",
       "    </tr>\n",
       "    <tr>\n",
       "      <th>54470</th>\n",
       "      <td>1</td>\n",
       "      <td>0</td>\n",
       "      <td>85</td>\n",
       "      <td>1</td>\n",
       "      <td>14</td>\n",
       "      <td>7</td>\n",
       "      <td>3</td>\n",
       "      <td>39</td>\n",
       "      <td>0</td>\n",
       "      <td>9</td>\n",
       "      <td>...</td>\n",
       "      <td>0</td>\n",
       "      <td>0</td>\n",
       "      <td>0</td>\n",
       "      <td>0</td>\n",
       "      <td>1</td>\n",
       "      <td>0</td>\n",
       "      <td>0</td>\n",
       "      <td>0</td>\n",
       "      <td>0</td>\n",
       "      <td>0</td>\n",
       "    </tr>\n",
       "    <tr>\n",
       "      <th>1965</th>\n",
       "      <td>1</td>\n",
       "      <td>0</td>\n",
       "      <td>55</td>\n",
       "      <td>6</td>\n",
       "      <td>1</td>\n",
       "      <td>17</td>\n",
       "      <td>8</td>\n",
       "      <td>43</td>\n",
       "      <td>5</td>\n",
       "      <td>30</td>\n",
       "      <td>...</td>\n",
       "      <td>0</td>\n",
       "      <td>0</td>\n",
       "      <td>0</td>\n",
       "      <td>1</td>\n",
       "      <td>0</td>\n",
       "      <td>0</td>\n",
       "      <td>0</td>\n",
       "      <td>0</td>\n",
       "      <td>0</td>\n",
       "      <td>0</td>\n",
       "    </tr>\n",
       "    <tr>\n",
       "      <th>61581</th>\n",
       "      <td>1</td>\n",
       "      <td>0</td>\n",
       "      <td>75</td>\n",
       "      <td>1</td>\n",
       "      <td>22</td>\n",
       "      <td>7</td>\n",
       "      <td>6</td>\n",
       "      <td>39</td>\n",
       "      <td>2</td>\n",
       "      <td>9</td>\n",
       "      <td>...</td>\n",
       "      <td>1</td>\n",
       "      <td>0</td>\n",
       "      <td>0</td>\n",
       "      <td>0</td>\n",
       "      <td>0</td>\n",
       "      <td>1</td>\n",
       "      <td>0</td>\n",
       "      <td>0</td>\n",
       "      <td>0</td>\n",
       "      <td>0</td>\n",
       "    </tr>\n",
       "  </tbody>\n",
       "</table>\n",
       "<p>81200 rows × 37 columns</p>\n",
       "</div>"
      ]
     },
     "execution_count": 40,
     "metadata": {},
     "output_type": "execute_result"
    }
   ],
   "execution_count": 40
  },
  {
   "metadata": {},
   "cell_type": "markdown",
   "source": "# 4. Fitting Model: Logistic Regression"
  },
  {
   "metadata": {
    "ExecuteTime": {
     "end_time": "2024-05-18T18:15:31.472272Z",
     "start_time": "2024-05-18T18:15:27.197286Z"
    }
   },
   "cell_type": "code",
   "source": "log_reg.fit(X_train, y_train)",
   "outputs": [
    {
     "data": {
      "text/plain": [
       "LogisticRegression(max_iter=10000, random_state=42)"
      ],
      "text/html": [
       "<style>#sk-container-id-1 {color: black;}#sk-container-id-1 pre{padding: 0;}#sk-container-id-1 div.sk-toggleable {background-color: white;}#sk-container-id-1 label.sk-toggleable__label {cursor: pointer;display: block;width: 100%;margin-bottom: 0;padding: 0.3em;box-sizing: border-box;text-align: center;}#sk-container-id-1 label.sk-toggleable__label-arrow:before {content: \"▸\";float: left;margin-right: 0.25em;color: #696969;}#sk-container-id-1 label.sk-toggleable__label-arrow:hover:before {color: black;}#sk-container-id-1 div.sk-estimator:hover label.sk-toggleable__label-arrow:before {color: black;}#sk-container-id-1 div.sk-toggleable__content {max-height: 0;max-width: 0;overflow: hidden;text-align: left;background-color: #f0f8ff;}#sk-container-id-1 div.sk-toggleable__content pre {margin: 0.2em;color: black;border-radius: 0.25em;background-color: #f0f8ff;}#sk-container-id-1 input.sk-toggleable__control:checked~div.sk-toggleable__content {max-height: 200px;max-width: 100%;overflow: auto;}#sk-container-id-1 input.sk-toggleable__control:checked~label.sk-toggleable__label-arrow:before {content: \"▾\";}#sk-container-id-1 div.sk-estimator input.sk-toggleable__control:checked~label.sk-toggleable__label {background-color: #d4ebff;}#sk-container-id-1 div.sk-label input.sk-toggleable__control:checked~label.sk-toggleable__label {background-color: #d4ebff;}#sk-container-id-1 input.sk-hidden--visually {border: 0;clip: rect(1px 1px 1px 1px);clip: rect(1px, 1px, 1px, 1px);height: 1px;margin: -1px;overflow: hidden;padding: 0;position: absolute;width: 1px;}#sk-container-id-1 div.sk-estimator {font-family: monospace;background-color: #f0f8ff;border: 1px dotted black;border-radius: 0.25em;box-sizing: border-box;margin-bottom: 0.5em;}#sk-container-id-1 div.sk-estimator:hover {background-color: #d4ebff;}#sk-container-id-1 div.sk-parallel-item::after {content: \"\";width: 100%;border-bottom: 1px solid gray;flex-grow: 1;}#sk-container-id-1 div.sk-label:hover label.sk-toggleable__label {background-color: #d4ebff;}#sk-container-id-1 div.sk-serial::before {content: \"\";position: absolute;border-left: 1px solid gray;box-sizing: border-box;top: 0;bottom: 0;left: 50%;z-index: 0;}#sk-container-id-1 div.sk-serial {display: flex;flex-direction: column;align-items: center;background-color: white;padding-right: 0.2em;padding-left: 0.2em;position: relative;}#sk-container-id-1 div.sk-item {position: relative;z-index: 1;}#sk-container-id-1 div.sk-parallel {display: flex;align-items: stretch;justify-content: center;background-color: white;position: relative;}#sk-container-id-1 div.sk-item::before, #sk-container-id-1 div.sk-parallel-item::before {content: \"\";position: absolute;border-left: 1px solid gray;box-sizing: border-box;top: 0;bottom: 0;left: 50%;z-index: -1;}#sk-container-id-1 div.sk-parallel-item {display: flex;flex-direction: column;z-index: 1;position: relative;background-color: white;}#sk-container-id-1 div.sk-parallel-item:first-child::after {align-self: flex-end;width: 50%;}#sk-container-id-1 div.sk-parallel-item:last-child::after {align-self: flex-start;width: 50%;}#sk-container-id-1 div.sk-parallel-item:only-child::after {width: 0;}#sk-container-id-1 div.sk-dashed-wrapped {border: 1px dashed gray;margin: 0 0.4em 0.5em 0.4em;box-sizing: border-box;padding-bottom: 0.4em;background-color: white;}#sk-container-id-1 div.sk-label label {font-family: monospace;font-weight: bold;display: inline-block;line-height: 1.2em;}#sk-container-id-1 div.sk-label-container {text-align: center;}#sk-container-id-1 div.sk-container {/* jupyter's `normalize.less` sets `[hidden] { display: none; }` but bootstrap.min.css set `[hidden] { display: none !important; }` so we also need the `!important` here to be able to override the default hidden behavior on the sphinx rendered scikit-learn.org. See: https://github.com/scikit-learn/scikit-learn/issues/21755 */display: inline-block !important;position: relative;}#sk-container-id-1 div.sk-text-repr-fallback {display: none;}</style><div id=\"sk-container-id-1\" class=\"sk-top-container\"><div class=\"sk-text-repr-fallback\"><pre>LogisticRegression(max_iter=10000, random_state=42)</pre><b>In a Jupyter environment, please rerun this cell to show the HTML representation or trust the notebook. <br />On GitHub, the HTML representation is unable to render, please try loading this page with nbviewer.org.</b></div><div class=\"sk-container\" hidden><div class=\"sk-item\"><div class=\"sk-estimator sk-toggleable\"><input class=\"sk-toggleable__control sk-hidden--visually\" id=\"sk-estimator-id-1\" type=\"checkbox\" checked><label for=\"sk-estimator-id-1\" class=\"sk-toggleable__label sk-toggleable__label-arrow\">LogisticRegression</label><div class=\"sk-toggleable__content\"><pre>LogisticRegression(max_iter=10000, random_state=42)</pre></div></div></div></div></div>"
      ]
     },
     "execution_count": 41,
     "metadata": {},
     "output_type": "execute_result"
    }
   ],
   "execution_count": 41
  },
  {
   "metadata": {
    "ExecuteTime": {
     "end_time": "2024-05-18T18:21:14.066357Z",
     "start_time": "2024-05-18T18:21:14.023533Z"
    }
   },
   "cell_type": "code",
   "source": [
    "y_pred = log_reg.predict(X_test)\n",
    "srs_result = y_pred == y_test"
   ],
   "outputs": [],
   "execution_count": 52
  },
  {
   "metadata": {
    "ExecuteTime": {
     "end_time": "2024-05-18T18:21:22.171481Z",
     "start_time": "2024-05-18T18:21:22.167156Z"
    }
   },
   "cell_type": "code",
   "source": "srs_result.value_counts(normalize=True) * 100",
   "outputs": [
    {
     "data": {
      "text/plain": [
       "True     61.839318\n",
       "False    38.160682\n",
       "Name: readmitted, dtype: float64"
      ]
     },
     "execution_count": 54,
     "metadata": {},
     "output_type": "execute_result"
    }
   ],
   "execution_count": 54
  },
  {
   "metadata": {},
   "cell_type": "markdown",
   "source": "# 5. Computing SHAP values"
  },
  {
   "metadata": {
    "ExecuteTime": {
     "end_time": "2024-05-18T18:17:25.618268Z",
     "start_time": "2024-05-18T18:17:25.615746Z"
    }
   },
   "cell_type": "code",
   "source": "import shap",
   "outputs": [],
   "execution_count": 48
  },
  {
   "metadata": {
    "ExecuteTime": {
     "end_time": "2024-05-18T18:17:26.952230Z",
     "start_time": "2024-05-18T18:17:26.068843Z"
    }
   },
   "cell_type": "code",
   "source": [
    "explainer = shap.LinearExplainer(log_reg, X_train)\n",
    "shap_values = explainer(X_train)"
   ],
   "outputs": [],
   "execution_count": 49
  },
  {
   "metadata": {
    "ExecuteTime": {
     "end_time": "2024-05-18T18:22:14.767543Z",
     "start_time": "2024-05-18T18:22:14.762305Z"
    }
   },
   "cell_type": "code",
   "source": "shap_values.values.shape",
   "outputs": [
    {
     "data": {
      "text/plain": [
       "(81200, 37)"
      ]
     },
     "execution_count": 55,
     "metadata": {},
     "output_type": "execute_result"
    }
   ],
   "execution_count": 55
  },
  {
   "metadata": {
    "ExecuteTime": {
     "end_time": "2024-05-18T20:33:46.815994Z",
     "start_time": "2024-05-18T20:33:46.812606Z"
    }
   },
   "cell_type": "code",
   "source": "shap_values",
   "outputs": [
    {
     "data": {
      "text/plain": [
       ".values =\n",
       "array([[ 0.02496349,  0.03521702,  0.03860454, ...,  0.03128357,\n",
       "         0.0033097 ,  0.03213897],\n",
       "       [-0.07489048,  0.03521702,  0.01995501, ...,  0.03128357,\n",
       "         0.0033097 ,  0.03213897],\n",
       "       [ 0.02496349, -0.03971281, -0.01734407, ...,  0.03128357,\n",
       "         0.0033097 , -0.1370135 ],\n",
       "       ...,\n",
       "       [ 0.02496349,  0.03521702,  0.03860454, ...,  0.03128357,\n",
       "         0.0033097 ,  0.03213897],\n",
       "       [ 0.02496349,  0.03521702, -0.01734407, ...,  0.03128357,\n",
       "         0.0033097 ,  0.03213897],\n",
       "       [ 0.02496349,  0.03521702,  0.01995501, ...,  0.03128357,\n",
       "         0.0033097 ,  0.03213897]])\n",
       "\n",
       ".base_values =\n",
       "array([-0.07668099, -0.07668099, -0.07668099, ..., -0.07668099,\n",
       "       -0.07668099, -0.07668099])\n",
       "\n",
       ".data =\n",
       "array([[ 1,  0, 85, ...,  0,  0,  0],\n",
       "       [ 0,  0, 75, ...,  0,  0,  0],\n",
       "       [ 1,  1, 55, ...,  0,  0,  1],\n",
       "       ...,\n",
       "       [ 1,  0, 85, ...,  0,  0,  0],\n",
       "       [ 1,  0, 55, ...,  0,  0,  0],\n",
       "       [ 1,  0, 75, ...,  0,  0,  0]])"
      ]
     },
     "execution_count": 60,
     "metadata": {},
     "output_type": "execute_result"
    }
   ],
   "execution_count": 60
  },
  {
   "metadata": {
    "ExecuteTime": {
     "end_time": "2024-05-18T20:39:13.029847Z",
     "start_time": "2024-05-18T20:39:13.017261Z"
    }
   },
   "cell_type": "code",
   "source": [
    "shap_importance = np.mean(np.abs(shap_values.values), axis=0)\n",
    "shap_importance"
   ],
   "outputs": [
    {
     "data": {
      "text/plain": [
       "array([3.75417747e-02, 3.72959343e-02, 2.38606087e-02, 4.40230776e-02,\n",
       "       4.35434547e-02, 1.12474322e-02, 4.16677086e-02, 2.31133850e-02,\n",
       "       6.91767992e-02, 4.46423086e-03, 7.03206782e-02, 8.79369439e-02,\n",
       "       3.14412853e-01, 1.32909099e-01, 1.72668225e-03, 2.32672745e-02,\n",
       "       5.60719333e-02, 2.29316237e-03, 1.77975500e-04, 7.92925351e-03,\n",
       "       1.13394526e-02, 3.70062036e-03, 5.18915619e-03, 7.67131820e-03,\n",
       "       5.35947815e-02, 3.70634876e-04, 3.68258293e-02, 1.13605323e-01,\n",
       "       6.88981492e-04, 1.48187845e-02, 2.07875422e-02, 1.97919769e-02,\n",
       "       1.82335337e-02, 1.48213364e-02, 4.66305028e-02, 7.45302363e-03,\n",
       "       5.53753938e-02])"
      ]
     },
     "execution_count": 70,
     "metadata": {},
     "output_type": "execute_result"
    }
   ],
   "execution_count": 70
  },
  {
   "metadata": {
    "ExecuteTime": {
     "end_time": "2024-05-18T20:39:17.326296Z",
     "start_time": "2024-05-18T20:39:17.323759Z"
    }
   },
   "cell_type": "code",
   "source": [
    "mean_shap_df = pd.DataFrame({\n",
    "    'Feature': X_train.columns,\n",
    "'Mean Shap value': shap_importance})"
   ],
   "outputs": [],
   "execution_count": 71
  },
  {
   "metadata": {
    "ExecuteTime": {
     "end_time": "2024-05-18T20:42:29.906350Z",
     "start_time": "2024-05-18T20:42:29.900772Z"
    }
   },
   "cell_type": "code",
   "source": [
    "mean_shap_df = mean_shap_df.sort_values(by='Mean Shap value', ascending=False)\n",
    "mean_shap_df"
   ],
   "outputs": [
    {
     "data": {
      "text/plain": [
       "                     Feature  Mean Shap value\n",
       "12          number_inpatient         0.314413\n",
       "13          number_diagnoses         0.132909\n",
       "27               diabetesMed         0.113605\n",
       "11          number_emergency         0.087937\n",
       "10         number_outpatient         0.070321\n",
       "8             num_procedures         0.069177\n",
       "16                 metformin         0.056072\n",
       "36                     Other         0.055375\n",
       "24                   insulin         0.053595\n",
       "34                 neoplasms         0.046631\n",
       "3          admission_type_id         0.044023\n",
       "4   discharge_disposition_id         0.043543\n",
       "6           time_in_hospital         0.041668\n",
       "0                       race         0.037542\n",
       "1                     gender         0.037296\n",
       "26                    change         0.036826\n",
       "2                        age         0.023861\n",
       "15                 A1Cresult         0.023267\n",
       "7         num_lab_procedures         0.023113\n",
       "30                 digestive         0.020788\n",
       "31             genitourinary         0.019792\n",
       "32                    injury         0.018234\n",
       "33           musculoskeletal         0.014821\n",
       "29                  diabetes         0.014819\n",
       "20                 glipizide         0.011339\n",
       "5        admission_source_id         0.011247\n",
       "19               glimepiride         0.007929\n",
       "23             rosiglitazone         0.007671\n",
       "35               respiratory         0.007453\n",
       "22              pioglitazone         0.005189\n",
       "9            num_medications         0.004464\n",
       "21                 glyburide         0.003701\n",
       "17               repaglinide         0.002293\n",
       "14             max_glu_serum         0.001727\n",
       "28               circulatory         0.000689\n",
       "25       glyburide-metformin         0.000371\n",
       "18               nateglinide         0.000178"
      ],
      "text/html": [
       "<div>\n",
       "<style scoped>\n",
       "    .dataframe tbody tr th:only-of-type {\n",
       "        vertical-align: middle;\n",
       "    }\n",
       "\n",
       "    .dataframe tbody tr th {\n",
       "        vertical-align: top;\n",
       "    }\n",
       "\n",
       "    .dataframe thead th {\n",
       "        text-align: right;\n",
       "    }\n",
       "</style>\n",
       "<table border=\"1\" class=\"dataframe\">\n",
       "  <thead>\n",
       "    <tr style=\"text-align: right;\">\n",
       "      <th></th>\n",
       "      <th>Feature</th>\n",
       "      <th>Mean Shap value</th>\n",
       "    </tr>\n",
       "  </thead>\n",
       "  <tbody>\n",
       "    <tr>\n",
       "      <th>12</th>\n",
       "      <td>number_inpatient</td>\n",
       "      <td>0.314413</td>\n",
       "    </tr>\n",
       "    <tr>\n",
       "      <th>13</th>\n",
       "      <td>number_diagnoses</td>\n",
       "      <td>0.132909</td>\n",
       "    </tr>\n",
       "    <tr>\n",
       "      <th>27</th>\n",
       "      <td>diabetesMed</td>\n",
       "      <td>0.113605</td>\n",
       "    </tr>\n",
       "    <tr>\n",
       "      <th>11</th>\n",
       "      <td>number_emergency</td>\n",
       "      <td>0.087937</td>\n",
       "    </tr>\n",
       "    <tr>\n",
       "      <th>10</th>\n",
       "      <td>number_outpatient</td>\n",
       "      <td>0.070321</td>\n",
       "    </tr>\n",
       "    <tr>\n",
       "      <th>8</th>\n",
       "      <td>num_procedures</td>\n",
       "      <td>0.069177</td>\n",
       "    </tr>\n",
       "    <tr>\n",
       "      <th>16</th>\n",
       "      <td>metformin</td>\n",
       "      <td>0.056072</td>\n",
       "    </tr>\n",
       "    <tr>\n",
       "      <th>36</th>\n",
       "      <td>Other</td>\n",
       "      <td>0.055375</td>\n",
       "    </tr>\n",
       "    <tr>\n",
       "      <th>24</th>\n",
       "      <td>insulin</td>\n",
       "      <td>0.053595</td>\n",
       "    </tr>\n",
       "    <tr>\n",
       "      <th>34</th>\n",
       "      <td>neoplasms</td>\n",
       "      <td>0.046631</td>\n",
       "    </tr>\n",
       "    <tr>\n",
       "      <th>3</th>\n",
       "      <td>admission_type_id</td>\n",
       "      <td>0.044023</td>\n",
       "    </tr>\n",
       "    <tr>\n",
       "      <th>4</th>\n",
       "      <td>discharge_disposition_id</td>\n",
       "      <td>0.043543</td>\n",
       "    </tr>\n",
       "    <tr>\n",
       "      <th>6</th>\n",
       "      <td>time_in_hospital</td>\n",
       "      <td>0.041668</td>\n",
       "    </tr>\n",
       "    <tr>\n",
       "      <th>0</th>\n",
       "      <td>race</td>\n",
       "      <td>0.037542</td>\n",
       "    </tr>\n",
       "    <tr>\n",
       "      <th>1</th>\n",
       "      <td>gender</td>\n",
       "      <td>0.037296</td>\n",
       "    </tr>\n",
       "    <tr>\n",
       "      <th>26</th>\n",
       "      <td>change</td>\n",
       "      <td>0.036826</td>\n",
       "    </tr>\n",
       "    <tr>\n",
       "      <th>2</th>\n",
       "      <td>age</td>\n",
       "      <td>0.023861</td>\n",
       "    </tr>\n",
       "    <tr>\n",
       "      <th>15</th>\n",
       "      <td>A1Cresult</td>\n",
       "      <td>0.023267</td>\n",
       "    </tr>\n",
       "    <tr>\n",
       "      <th>7</th>\n",
       "      <td>num_lab_procedures</td>\n",
       "      <td>0.023113</td>\n",
       "    </tr>\n",
       "    <tr>\n",
       "      <th>30</th>\n",
       "      <td>digestive</td>\n",
       "      <td>0.020788</td>\n",
       "    </tr>\n",
       "    <tr>\n",
       "      <th>31</th>\n",
       "      <td>genitourinary</td>\n",
       "      <td>0.019792</td>\n",
       "    </tr>\n",
       "    <tr>\n",
       "      <th>32</th>\n",
       "      <td>injury</td>\n",
       "      <td>0.018234</td>\n",
       "    </tr>\n",
       "    <tr>\n",
       "      <th>33</th>\n",
       "      <td>musculoskeletal</td>\n",
       "      <td>0.014821</td>\n",
       "    </tr>\n",
       "    <tr>\n",
       "      <th>29</th>\n",
       "      <td>diabetes</td>\n",
       "      <td>0.014819</td>\n",
       "    </tr>\n",
       "    <tr>\n",
       "      <th>20</th>\n",
       "      <td>glipizide</td>\n",
       "      <td>0.011339</td>\n",
       "    </tr>\n",
       "    <tr>\n",
       "      <th>5</th>\n",
       "      <td>admission_source_id</td>\n",
       "      <td>0.011247</td>\n",
       "    </tr>\n",
       "    <tr>\n",
       "      <th>19</th>\n",
       "      <td>glimepiride</td>\n",
       "      <td>0.007929</td>\n",
       "    </tr>\n",
       "    <tr>\n",
       "      <th>23</th>\n",
       "      <td>rosiglitazone</td>\n",
       "      <td>0.007671</td>\n",
       "    </tr>\n",
       "    <tr>\n",
       "      <th>35</th>\n",
       "      <td>respiratory</td>\n",
       "      <td>0.007453</td>\n",
       "    </tr>\n",
       "    <tr>\n",
       "      <th>22</th>\n",
       "      <td>pioglitazone</td>\n",
       "      <td>0.005189</td>\n",
       "    </tr>\n",
       "    <tr>\n",
       "      <th>9</th>\n",
       "      <td>num_medications</td>\n",
       "      <td>0.004464</td>\n",
       "    </tr>\n",
       "    <tr>\n",
       "      <th>21</th>\n",
       "      <td>glyburide</td>\n",
       "      <td>0.003701</td>\n",
       "    </tr>\n",
       "    <tr>\n",
       "      <th>17</th>\n",
       "      <td>repaglinide</td>\n",
       "      <td>0.002293</td>\n",
       "    </tr>\n",
       "    <tr>\n",
       "      <th>14</th>\n",
       "      <td>max_glu_serum</td>\n",
       "      <td>0.001727</td>\n",
       "    </tr>\n",
       "    <tr>\n",
       "      <th>28</th>\n",
       "      <td>circulatory</td>\n",
       "      <td>0.000689</td>\n",
       "    </tr>\n",
       "    <tr>\n",
       "      <th>25</th>\n",
       "      <td>glyburide-metformin</td>\n",
       "      <td>0.000371</td>\n",
       "    </tr>\n",
       "    <tr>\n",
       "      <th>18</th>\n",
       "      <td>nateglinide</td>\n",
       "      <td>0.000178</td>\n",
       "    </tr>\n",
       "  </tbody>\n",
       "</table>\n",
       "</div>"
      ]
     },
     "execution_count": 74,
     "metadata": {},
     "output_type": "execute_result"
    }
   ],
   "execution_count": 74
  },
  {
   "metadata": {
    "ExecuteTime": {
     "end_time": "2024-05-18T20:47:30.881923Z",
     "start_time": "2024-05-18T20:47:30.731059Z"
    }
   },
   "cell_type": "code",
   "source": [
    "plt.figure(figsize=(8,6))\n",
    "sns.barplot(x='Mean Shap value', y='Feature', data=mean_shap_df, palette='viridis')\n",
    "plt.title('Feature Importance based on Mean Absolute SHAP Values')\n",
    "plt.xlabel('Mean Absolute SHAP Value')\n",
    "plt.ylabel('Feature')\n",
    "plt.show()"
   ],
   "outputs": [
    {
     "data": {
      "text/plain": [
       "<Figure size 800x600 with 1 Axes>"
      ],
      "image/png": "[encoded data removed]"
     },
     "metadata": {},
     "output_type": "display_data"
    }
   ],
   "execution_count": 81
  },
  {
   "metadata": {
    "ExecuteTime": {
     "end_time": "2024-05-18T20:56:13.785608Z",
     "start_time": "2024-05-18T20:56:13.772317Z"
    }
   },
   "cell_type": "code",
   "source": [
    "f_selected = mean_shap_df.nlargest(10, 'Mean Shap value')['Feature'].tolist()\n",
    "f_selected"
   ],
   "outputs": [
    {
     "data": {
      "text/plain": [
       "['number_inpatient',\n",
       " 'number_diagnoses',\n",
       " 'diabetesMed',\n",
       " 'number_emergency',\n",
       " 'number_outpatient',\n",
       " 'num_procedures',\n",
       " 'metformin',\n",
       " 'Other',\n",
       " 'insulin',\n",
       " 'neoplasms']"
      ]
     },
     "execution_count": 84,
     "metadata": {},
     "output_type": "execute_result"
    }
   ],
   "execution_count": 84
  },
  {
   "metadata": {},
   "cell_type": "markdown",
   "source": "# 6. Recursive Feature Selection (RFE)"
  },
  {
   "metadata": {
    "ExecuteTime": {
     "end_time": "2024-05-18T20:56:38.350212Z",
     "start_time": "2024-05-18T20:56:38.325202Z"
    }
   },
   "cell_type": "code",
   "source": "from sklearn.feature_selection import RFE",
   "outputs": [],
   "execution_count": 85
  },
  {
   "metadata": {
    "ExecuteTime": {
     "end_time": "2024-05-18T20:57:48.476029Z",
     "start_time": "2024-05-18T20:57:48.183701Z"
    }
   },
   "cell_type": "code",
   "source": [
    "rfe_log_reg = RFE(log_reg, n_features_to_select=10, step=1)\n",
    "selector = rfe_log_reg.fit(X_train[f_selected], y_train)"
   ],
   "outputs": [],
   "execution_count": 90
  },
  {
   "metadata": {
    "ExecuteTime": {
     "end_time": "2024-05-18T20:57:48.677746Z",
     "start_time": "2024-05-18T20:57:48.657217Z"
    }
   },
   "cell_type": "code",
   "source": "selector",
   "outputs": [
    {
     "data": {
      "text/plain": [
       "RFE(estimator=LogisticRegression(max_iter=10000, random_state=42),\n",
       "    n_features_to_select=10)"
      ],
      "text/html": [
       "<style>#sk-container-id-3 {color: black;}#sk-container-id-3 pre{padding: 0;}#sk-container-id-3 div.sk-toggleable {background-color: white;}#sk-container-id-3 label.sk-toggleable__label {cursor: pointer;display: block;width: 100%;margin-bottom: 0;padding: 0.3em;box-sizing: border-box;text-align: center;}#sk-container-id-3 label.sk-toggleable__label-arrow:before {content: \"▸\";float: left;margin-right: 0.25em;color: #696969;}#sk-container-id-3 label.sk-toggleable__label-arrow:hover:before {color: black;}#sk-container-id-3 div.sk-estimator:hover label.sk-toggleable__label-arrow:before {color: black;}#sk-container-id-3 div.sk-toggleable__content {max-height: 0;max-width: 0;overflow: hidden;text-align: left;background-color: #f0f8ff;}#sk-container-id-3 div.sk-toggleable__content pre {margin: 0.2em;color: black;border-radius: 0.25em;background-color: #f0f8ff;}#sk-container-id-3 input.sk-toggleable__control:checked~div.sk-toggleable__content {max-height: 200px;max-width: 100%;overflow: auto;}#sk-container-id-3 input.sk-toggleable__control:checked~label.sk-toggleable__label-arrow:before {content: \"▾\";}#sk-container-id-3 div.sk-estimator input.sk-toggleable__control:checked~label.sk-toggleable__label {background-color: #d4ebff;}#sk-container-id-3 div.sk-label input.sk-toggleable__control:checked~label.sk-toggleable__label {background-color: #d4ebff;}#sk-container-id-3 input.sk-hidden--visually {border: 0;clip: rect(1px 1px 1px 1px);clip: rect(1px, 1px, 1px, 1px);height: 1px;margin: -1px;overflow: hidden;padding: 0;position: absolute;width: 1px;}#sk-container-id-3 div.sk-estimator {font-family: monospace;background-color: #f0f8ff;border: 1px dotted black;border-radius: 0.25em;box-sizing: border-box;margin-bottom: 0.5em;}#sk-container-id-3 div.sk-estimator:hover {background-color: #d4ebff;}#sk-container-id-3 div.sk-parallel-item::after {content: \"\";width: 100%;border-bottom: 1px solid gray;flex-grow: 1;}#sk-container-id-3 div.sk-label:hover label.sk-toggleable__label {background-color: #d4ebff;}#sk-container-id-3 div.sk-serial::before {content: \"\";position: absolute;border-left: 1px solid gray;box-sizing: border-box;top: 0;bottom: 0;left: 50%;z-index: 0;}#sk-container-id-3 div.sk-serial {display: flex;flex-direction: column;align-items: center;background-color: white;padding-right: 0.2em;padding-left: 0.2em;position: relative;}#sk-container-id-3 div.sk-item {position: relative;z-index: 1;}#sk-container-id-3 div.sk-parallel {display: flex;align-items: stretch;justify-content: center;background-color: white;position: relative;}#sk-container-id-3 div.sk-item::before, #sk-container-id-3 div.sk-parallel-item::before {content: \"\";position: absolute;border-left: 1px solid gray;box-sizing: border-box;top: 0;bottom: 0;left: 50%;z-index: -1;}#sk-container-id-3 div.sk-parallel-item {display: flex;flex-direction: column;z-index: 1;position: relative;background-color: white;}#sk-container-id-3 div.sk-parallel-item:first-child::after {align-self: flex-end;width: 50%;}#sk-container-id-3 div.sk-parallel-item:last-child::after {align-self: flex-start;width: 50%;}#sk-container-id-3 div.sk-parallel-item:only-child::after {width: 0;}#sk-container-id-3 div.sk-dashed-wrapped {border: 1px dashed gray;margin: 0 0.4em 0.5em 0.4em;box-sizing: border-box;padding-bottom: 0.4em;background-color: white;}#sk-container-id-3 div.sk-label label {font-family: monospace;font-weight: bold;display: inline-block;line-height: 1.2em;}#sk-container-id-3 div.sk-label-container {text-align: center;}#sk-container-id-3 div.sk-container {/* jupyter's `normalize.less` sets `[hidden] { display: none; }` but bootstrap.min.css set `[hidden] { display: none !important; }` so we also need the `!important` here to be able to override the default hidden behavior on the sphinx rendered scikit-learn.org. See: https://github.com/scikit-learn/scikit-learn/issues/21755 */display: inline-block !important;position: relative;}#sk-container-id-3 div.sk-text-repr-fallback {display: none;}</style><div id=\"sk-container-id-3\" class=\"sk-top-container\"><div class=\"sk-text-repr-fallback\"><pre>RFE(estimator=LogisticRegression(max_iter=10000, random_state=42),\n",
       "    n_features_to_select=10)</pre><b>In a Jupyter environment, please rerun this cell to show the HTML representation or trust the notebook. <br />On GitHub, the HTML representation is unable to render, please try loading this page with nbviewer.org.</b></div><div class=\"sk-container\" hidden><div class=\"sk-item sk-dashed-wrapped\"><div class=\"sk-label-container\"><div class=\"sk-label sk-toggleable\"><input class=\"sk-toggleable__control sk-hidden--visually\" id=\"sk-estimator-id-5\" type=\"checkbox\" ><label for=\"sk-estimator-id-5\" class=\"sk-toggleable__label sk-toggleable__label-arrow\">RFE</label><div class=\"sk-toggleable__content\"><pre>RFE(estimator=LogisticRegression(max_iter=10000, random_state=42),\n",
       "    n_features_to_select=10)</pre></div></div></div><div class=\"sk-parallel\"><div class=\"sk-parallel-item\"><div class=\"sk-item\"><div class=\"sk-label-container\"><div class=\"sk-label sk-toggleable\"><input class=\"sk-toggleable__control sk-hidden--visually\" id=\"sk-estimator-id-6\" type=\"checkbox\" ><label for=\"sk-estimator-id-6\" class=\"sk-toggleable__label sk-toggleable__label-arrow\">estimator: LogisticRegression</label><div class=\"sk-toggleable__content\"><pre>LogisticRegression(max_iter=10000, random_state=42)</pre></div></div></div><div class=\"sk-serial\"><div class=\"sk-item\"><div class=\"sk-estimator sk-toggleable\"><input class=\"sk-toggleable__control sk-hidden--visually\" id=\"sk-estimator-id-7\" type=\"checkbox\" ><label for=\"sk-estimator-id-7\" class=\"sk-toggleable__label sk-toggleable__label-arrow\">LogisticRegression</label><div class=\"sk-toggleable__content\"><pre>LogisticRegression(max_iter=10000, random_state=42)</pre></div></div></div></div></div></div></div></div></div></div>"
      ]
     },
     "execution_count": 91,
     "metadata": {},
     "output_type": "execute_result"
    }
   ],
   "execution_count": 91
  },
  {
   "metadata": {
    "ExecuteTime": {
     "end_time": "2024-05-18T20:57:49.428619Z",
     "start_time": "2024-05-18T20:57:49.425309Z"
    }
   },
   "cell_type": "code",
   "source": [
    "selected_features = X_train[f_selected].columns[selector.support_]\n",
    "print(\"Selected features:\", selected_features)"
   ],
   "outputs": [
    {
     "name": "stdout",
     "output_type": "stream",
     "text": [
      "Selected features: Index(['number_inpatient', 'number_diagnoses', 'diabetesMed',\n",
      "       'number_emergency', 'number_outpatient', 'num_procedures', 'metformin',\n",
      "       'Other', 'insulin', 'neoplasms'],\n",
      "      dtype='object')\n"
     ]
    }
   ],
   "execution_count": 92
  },
  {
   "metadata": {
    "ExecuteTime": {
     "end_time": "2024-05-18T20:57:51.285425Z",
     "start_time": "2024-05-18T20:57:51.264964Z"
    }
   },
   "cell_type": "code",
   "source": [
    "y_pred= rfe_log_reg.predict(X_test[f_selected])\n",
    "comparison = y_pred == y_test\n",
    "sensitivity = comparison.sum() / len(y_test)\n",
    "print(sensitivity)"
   ],
   "outputs": [
    {
     "name": "stdout",
     "output_type": "stream",
     "text": [
      "0.6184424412590512\n"
     ]
    }
   ],
   "execution_count": 93
  },
  {
   "metadata": {},
   "cell_type": "markdown",
   "source": "# 7. Cross-Validation (CV)"
  },
  {
   "metadata": {
    "ExecuteTime": {
     "end_time": "2024-05-18T20:58:21.871540Z",
     "start_time": "2024-05-18T20:58:21.867030Z"
    }
   },
   "cell_type": "code",
   "source": "from sklearn.model_selection import cross_val_score, StratifiedKFold",
   "outputs": [],
   "execution_count": 94
  },
  {
   "metadata": {
    "ExecuteTime": {
     "end_time": "2024-05-18T20:58:22.254530Z",
     "start_time": "2024-05-18T20:58:22.252693Z"
    }
   },
   "cell_type": "code",
   "source": "cv = StratifiedKFold(n_splits=5, shuffle=True, random_state=42)",
   "outputs": [],
   "execution_count": 95
  },
  {
   "metadata": {
    "ExecuteTime": {
     "end_time": "2024-05-18T20:58:24.268527Z",
     "start_time": "2024-05-18T20:58:22.651950Z"
    }
   },
   "cell_type": "code",
   "source": [
    "cv_scores = cross_val_score(log_reg, X_train[f_selected], y_train, cv=cv, scoring='accuracy')\n",
    "print(\"Cross-validation accuracy scores:\", cv_scores)\n",
    "print(\"Mean CV accuracy:\", np.mean(cv_scores))"
   ],
   "outputs": [
    {
     "name": "stdout",
     "output_type": "stream",
     "text": [
      "Cross-validation accuracy scores: [0.61896552 0.6135468  0.61939655 0.61804187 0.62019704]\n",
      "Mean CV accuracy: 0.6180295566502463\n"
     ]
    }
   ],
   "execution_count": 96
  },
  {
   "metadata": {},
   "cell_type": "markdown",
   "source": "# 8. Accuracy of the Model"
  },
  {
   "metadata": {
    "ExecuteTime": {
     "end_time": "2024-05-18T21:07:08.239291Z",
     "start_time": "2024-05-18T21:07:08.234876Z"
    }
   },
   "cell_type": "code",
   "source": "from sklearn.metrics import accuracy_score",
   "outputs": [],
   "execution_count": 99
  },
  {
   "metadata": {
    "ExecuteTime": {
     "end_time": "2024-05-18T21:07:09.249892Z",
     "start_time": "2024-05-18T21:07:08.735415Z"
    }
   },
   "cell_type": "code",
   "source": [
    "log_reg.fit(X_train[f_selected], y_train)\n",
    "\n",
    "\n",
    "y_pred = log_reg.predict(X_test[f_selected])\n",
    "\n",
    "\n",
    "accuracy = accuracy_score(y_test, y_pred)\n",
    "print(\"Test set accuracy:\", accuracy)"
   ],
   "outputs": [
    {
     "name": "stdout",
     "output_type": "stream",
     "text": [
      "Test set accuracy: 0.6184424412590512\n"
     ]
    }
   ],
   "execution_count": 100
  },
  {
   "metadata": {},
   "cell_type": "markdown",
   "source": "# 9. Conclusion"
  },
  {
   "metadata": {},
   "cell_type": "markdown",
   "source": [
    "From the result wen can conclude that the accuracy from the trained model using the 10 features selected by the result of Shap values give us a 0.61 accuracy, very similar to the accuracy from the full model [here](#cell_54_output). Also the value seems to be similar to de accuracy value found on the article from Morales on page 9: *\"In the experiments, a precision value of 0.61 was obtained, which indicated that the system provides acceptable recommendations.\n",
    "\"*"
   ]
  },
  {
   "metadata": {},
   "cell_type": "code",
   "outputs": [],
   "execution_count": null,
   "source": ""
  }
 ],
 "metadata": {
  "kernelspec": {
   "display_name": "base",
   "language": "python",
   "name": "python3"
  },
  "language_info": {
   "name": "python",
   "version": "3.11.4"
  }
 },
 "nbformat": 4,
 "nbformat_minor": 2
}
